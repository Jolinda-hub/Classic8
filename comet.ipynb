{
 "cells": [
  {
   "cell_type": "code",
   "execution_count": 1,
   "metadata": {
    "collapsed": true
   },
   "outputs": [
    {
     "name": "stdout",
     "output_type": "stream",
     "text": [
      "Requirement already satisfied: comet_ml in c:\\users\\jolinda\\anaconda3\\lib\\site-packages (3.1.11)\n",
      "Requirement already satisfied: websocket-client>=0.55.0 in c:\\users\\jolinda\\anaconda3\\lib\\site-packages (from comet_ml) (0.57.0)\n",
      "Requirement already satisfied: requests>=2.18.4 in c:\\users\\jolinda\\anaconda3\\lib\\site-packages (from comet_ml) (2.22.0)\n",
      "Requirement already satisfied: everett[ini]>=1.0.1; python_version >= \"3.0\" in c:\\users\\jolinda\\anaconda3\\lib\\site-packages (from comet_ml) (1.0.2)\n",
      "Requirement already satisfied: netifaces>=0.10.7 in c:\\users\\jolinda\\anaconda3\\lib\\site-packages (from comet_ml) (0.10.9)\n",
      "Requirement already satisfied: wurlitzer>=1.0.2 in c:\\users\\jolinda\\anaconda3\\lib\\site-packages (from comet_ml) (2.0.0)\n",
      "Requirement already satisfied: nvidia-ml-py3>=7.352.0 in c:\\users\\jolinda\\anaconda3\\lib\\site-packages (from comet_ml) (7.352.0)\n",
      "Requirement already satisfied: six in c:\\users\\jolinda\\anaconda3\\lib\\site-packages (from comet_ml) (1.14.0)\n",
      "Requirement already satisfied: jsonschema!=3.1.0,>=2.6.0 in c:\\users\\jolinda\\anaconda3\\lib\\site-packages (from comet_ml) (3.2.0)\n",
      "Requirement already satisfied: comet-git-pure>=0.19.11 in c:\\users\\jolinda\\anaconda3\\lib\\site-packages (from comet_ml) (0.19.16)\n",
      "Requirement already satisfied: idna<2.9,>=2.5 in c:\\users\\jolinda\\anaconda3\\lib\\site-packages (from requests>=2.18.4->comet_ml) (2.8)\n",
      "Requirement already satisfied: certifi>=2017.4.17 in c:\\users\\jolinda\\anaconda3\\lib\\site-packages (from requests>=2.18.4->comet_ml) (2019.11.28)\n",
      "Requirement already satisfied: chardet<3.1.0,>=3.0.2 in c:\\users\\jolinda\\anaconda3\\lib\\site-packages (from requests>=2.18.4->comet_ml) (3.0.4)\n",
      "Requirement already satisfied: urllib3!=1.25.0,!=1.25.1,<1.26,>=1.21.1 in c:\\users\\jolinda\\anaconda3\\lib\\site-packages (from requests>=2.18.4->comet_ml) (1.25.8)\n",
      "Requirement already satisfied: configobj; extra == \"ini\" in c:\\users\\jolinda\\anaconda3\\lib\\site-packages (from everett[ini]>=1.0.1; python_version >= \"3.0\"->comet_ml) (5.0.6)\n",
      "Requirement already satisfied: attrs>=17.4.0 in c:\\users\\jolinda\\anaconda3\\lib\\site-packages (from jsonschema!=3.1.0,>=2.6.0->comet_ml) (19.3.0)\n",
      "Requirement already satisfied: setuptools in c:\\users\\jolinda\\anaconda3\\lib\\site-packages (from jsonschema!=3.1.0,>=2.6.0->comet_ml) (45.2.0.post20200210)\n",
      "Requirement already satisfied: pyrsistent>=0.14.0 in c:\\users\\jolinda\\anaconda3\\lib\\site-packages (from jsonschema!=3.1.0,>=2.6.0->comet_ml) (0.15.7)\n",
      "Requirement already satisfied: importlib-metadata; python_version < \"3.8\" in c:\\users\\jolinda\\anaconda3\\lib\\site-packages (from jsonschema!=3.1.0,>=2.6.0->comet_ml) (1.5.0)\n",
      "Requirement already satisfied: zipp>=0.5 in c:\\users\\jolinda\\anaconda3\\lib\\site-packages (from importlib-metadata; python_version < \"3.8\"->jsonschema!=3.1.0,>=2.6.0->comet_ml) (2.2.0)\n"
     ]
    }
   ],
   "source": [
    "!pip install comet_ml"
   ]
  },
  {
   "cell_type": "code",
   "execution_count": 1,
   "metadata": {},
   "outputs": [],
   "source": [
    "import comet_ml"
   ]
  },
  {
   "cell_type": "code",
   "execution_count": 2,
   "metadata": {},
   "outputs": [],
   "source": [
    "from comet_ml import Experiment"
   ]
  },
  {
   "cell_type": "code",
   "execution_count": 3,
   "metadata": {},
   "outputs": [
    {
     "name": "stderr",
     "output_type": "stream",
     "text": [
      "COMET INFO: old comet version (3.1.11) detected. current: 3.1.12 please update your comet lib with command: `pip install --no-cache-dir --upgrade comet_ml`\n",
      "COMET INFO: Experiment is live on comet.ml https://www.comet.ml/jolinda-hub/general/d253d0d6498a494985c9bd87a1b9980b\n",
      "\n"
     ]
    }
   ],
   "source": [
    "comet = Experiment(api_key=\"KY2FKGd0W5CRZJiGgHVU5nHDu\",\n",
    "                        project_name=\"general\", workspace=\"jolinda-hub\")"
   ]
  },
  {
   "cell_type": "code",
   "execution_count": 84,
   "metadata": {},
   "outputs": [
    {
     "name": "stderr",
     "output_type": "stream",
     "text": [
      "COMET INFO: old comet version (3.1.11) detected. current: 3.1.12 please update your comet lib with command: `pip install --no-cache-dir --upgrade comet_ml`\n",
      "COMET INFO: Experiment is live on comet.ml https://www.comet.ml/jolinda-hub/general/8f32339a191e4948b663df745eb01b81\n",
      "\n"
     ]
    }
   ],
   "source": [
    "comet_sec = Experiment(api_key=\"KY2FKGd0W5CRZJiGgHVU5nHDu\",\n",
    "                        project_name=\"general\", workspace=\"jolinda-hub\")"
   ]
  },
  {
   "cell_type": "code",
   "execution_count": 87,
   "metadata": {},
   "outputs": [],
   "source": [
    "# utilities\n",
    "import numpy as np\n",
    "import pandas as pd\n",
    "\n",
    "# plotting\n",
    "import matplotlib.pyplot as plt\n",
    "from wordcloud import WordCloud\n",
    "import seaborn as sns\n",
    "plt.style.use('ggplot')\n",
    "%matplotlib inline\n",
    "sns.set()\n",
    "\n",
    "# nltk\n",
    "from nltk.tokenize import word_tokenize, TreebankWordTokenizer\n",
    "from nltk.corpus import stopwords\n",
    "from nltk.stem import WordNetLemmatizer\n",
    "from nltk.stem import SnowballStemmer\n",
    "import nltk\n",
    "import re\n",
    "\n",
    "# sklearn(classifier)\n",
    "from sklearn.feature_extraction.text import CountVectorizer\n",
    "from sklearn.feature_extraction.text import TfidfVectorizer\n",
    "from sklearn.feature_extraction.text import TfidfTransformer\n",
    "from sklearn.linear_model import LogisticRegression\n",
    "from sklearn.naive_bayes import MultinomialNB\n",
    "from sklearn.naive_bayes import BernoulliNB\n",
    "from sklearn.svm import LinearSVC\n",
    "from sklearn.svm import SVC\n",
    "\n",
    "#Metrics/Evaluation\n",
    "from sklearn.metrics import classification_report, accuracy_score, roc_auc_score\n",
    "from sklearn.metrics import f1_score, precision_score, recall_score, confusion_matrix\n",
    "from sklearn.model_selection import train_test_split\n",
    "from sklearn.model_selection import GridSearchCV\n",
    "from sklearn.preprocessing import StandardScaler\n",
    "from imblearn.over_sampling import SMOTE \n",
    "from sklearn.pipeline import Pipeline\n",
    "from sklearn.utils import resample\n",
    "from collections import Counter \n",
    "from sklearn import metrics\n",
    "import warnings\n",
    "warnings.filterwarnings('ignore')\n",
    "%matplotlib inline"
   ]
  },
  {
   "cell_type": "code",
   "execution_count": 88,
   "metadata": {},
   "outputs": [],
   "source": [
    "train=pd.read_csv('train.csv')"
   ]
  },
  {
   "cell_type": "code",
   "execution_count": 89,
   "metadata": {},
   "outputs": [],
   "source": [
    "test=pd.read_csv('test.csv')"
   ]
  },
  {
   "cell_type": "code",
   "execution_count": 90,
   "metadata": {},
   "outputs": [
    {
     "data": {
      "text/html": [
       "<div>\n",
       "<style scoped>\n",
       "    .dataframe tbody tr th:only-of-type {\n",
       "        vertical-align: middle;\n",
       "    }\n",
       "\n",
       "    .dataframe tbody tr th {\n",
       "        vertical-align: top;\n",
       "    }\n",
       "\n",
       "    .dataframe thead th {\n",
       "        text-align: right;\n",
       "    }\n",
       "</style>\n",
       "<table border=\"1\" class=\"dataframe\">\n",
       "  <thead>\n",
       "    <tr style=\"text-align: right;\">\n",
       "      <th></th>\n",
       "      <th>sentiment</th>\n",
       "      <th>message</th>\n",
       "      <th>tweetid</th>\n",
       "    </tr>\n",
       "  </thead>\n",
       "  <tbody>\n",
       "    <tr>\n",
       "      <th>0</th>\n",
       "      <td>1</td>\n",
       "      <td>PolySciMajor EPA chief doesn't think carbon di...</td>\n",
       "      <td>625221</td>\n",
       "    </tr>\n",
       "    <tr>\n",
       "      <th>1</th>\n",
       "      <td>1</td>\n",
       "      <td>It's not like we lack evidence of anthropogeni...</td>\n",
       "      <td>126103</td>\n",
       "    </tr>\n",
       "    <tr>\n",
       "      <th>2</th>\n",
       "      <td>2</td>\n",
       "      <td>RT @RawStory: Researchers say we have three ye...</td>\n",
       "      <td>698562</td>\n",
       "    </tr>\n",
       "    <tr>\n",
       "      <th>3</th>\n",
       "      <td>1</td>\n",
       "      <td>#TodayinMaker# WIRED : 2016 was a pivotal year...</td>\n",
       "      <td>573736</td>\n",
       "    </tr>\n",
       "    <tr>\n",
       "      <th>4</th>\n",
       "      <td>1</td>\n",
       "      <td>RT @SoyNovioDeTodas: It's 2016, and a racist, ...</td>\n",
       "      <td>466954</td>\n",
       "    </tr>\n",
       "    <tr>\n",
       "      <th>...</th>\n",
       "      <td>...</td>\n",
       "      <td>...</td>\n",
       "      <td>...</td>\n",
       "    </tr>\n",
       "    <tr>\n",
       "      <th>15814</th>\n",
       "      <td>1</td>\n",
       "      <td>RT @ezlusztig: They took down the material on ...</td>\n",
       "      <td>22001</td>\n",
       "    </tr>\n",
       "    <tr>\n",
       "      <th>15815</th>\n",
       "      <td>2</td>\n",
       "      <td>RT @washingtonpost: How climate change could b...</td>\n",
       "      <td>17856</td>\n",
       "    </tr>\n",
       "    <tr>\n",
       "      <th>15816</th>\n",
       "      <td>0</td>\n",
       "      <td>notiven: RT: nytimesworld :What does Trump act...</td>\n",
       "      <td>384248</td>\n",
       "    </tr>\n",
       "    <tr>\n",
       "      <th>15817</th>\n",
       "      <td>-1</td>\n",
       "      <td>RT @sara8smiles: Hey liberals the climate chan...</td>\n",
       "      <td>819732</td>\n",
       "    </tr>\n",
       "    <tr>\n",
       "      <th>15818</th>\n",
       "      <td>0</td>\n",
       "      <td>RT @Chet_Cannon: .@kurteichenwald's 'climate c...</td>\n",
       "      <td>806319</td>\n",
       "    </tr>\n",
       "  </tbody>\n",
       "</table>\n",
       "<p>15819 rows × 3 columns</p>\n",
       "</div>"
      ],
      "text/plain": [
       "       sentiment                                            message  tweetid\n",
       "0              1  PolySciMajor EPA chief doesn't think carbon di...   625221\n",
       "1              1  It's not like we lack evidence of anthropogeni...   126103\n",
       "2              2  RT @RawStory: Researchers say we have three ye...   698562\n",
       "3              1  #TodayinMaker# WIRED : 2016 was a pivotal year...   573736\n",
       "4              1  RT @SoyNovioDeTodas: It's 2016, and a racist, ...   466954\n",
       "...          ...                                                ...      ...\n",
       "15814          1  RT @ezlusztig: They took down the material on ...    22001\n",
       "15815          2  RT @washingtonpost: How climate change could b...    17856\n",
       "15816          0  notiven: RT: nytimesworld :What does Trump act...   384248\n",
       "15817         -1  RT @sara8smiles: Hey liberals the climate chan...   819732\n",
       "15818          0  RT @Chet_Cannon: .@kurteichenwald's 'climate c...   806319\n",
       "\n",
       "[15819 rows x 3 columns]"
      ]
     },
     "execution_count": 90,
     "metadata": {},
     "output_type": "execute_result"
    }
   ],
   "source": [
    "train"
   ]
  },
  {
   "cell_type": "code",
   "execution_count": 91,
   "metadata": {},
   "outputs": [],
   "source": [
    "all_sents = []\n",
    "for i, row in train.iterrows():\n",
    "    for post in row['message'].split('|||'):\n",
    "        all_sents.append([row['sentiment'], post])\n",
    "all_sents = pd.DataFrame(all_sents, columns=['sentiment', 'message'])"
   ]
  },
  {
   "cell_type": "code",
   "execution_count": 92,
   "metadata": {},
   "outputs": [],
   "source": [
    "# Remove urls\n",
    "pattern_url = r'http[s]?://(?:[A-Za-z]|[0-9]|[$-_@.&+]|[!*\\(\\),]|(?:%[0-9A-Fa-f][0-9A-Fa-f]))+'\n",
    "subs_url = r'url-web'\n",
    "all_sents['message'] = all_sents['message'].replace(to_replace = pattern_url, value = subs_url, regex = True)"
   ]
  },
  {
   "cell_type": "code",
   "execution_count": 93,
   "metadata": {},
   "outputs": [],
   "source": [
    "# Make lower case\n",
    "all_sents['message'] = all_sents['message'].str.lower()"
   ]
  },
  {
   "cell_type": "code",
   "execution_count": 94,
   "metadata": {},
   "outputs": [],
   "source": [
    "# Strip out punctuation marks and numerals\n",
    "import string\n",
    "def remove_punctuation_numbers(message):\n",
    "    punc_numbers = string.punctuation + '0123456789'\n",
    "    return ''.join([l for l in message if l not in punc_numbers])\n",
    "\n",
    "all_sents['message'] = all_sents['message'].apply(remove_punctuation_numbers)"
   ]
  },
  {
   "cell_type": "code",
   "execution_count": 95,
   "metadata": {},
   "outputs": [],
   "source": [
    "sum_sents = all_sents[['sentiment', 'message']].groupby('sentiment').count()"
   ]
  },
  {
   "cell_type": "code",
   "execution_count": 96,
   "metadata": {},
   "outputs": [
    {
     "data": {
      "text/html": [
       "<div>\n",
       "<style scoped>\n",
       "    .dataframe tbody tr th:only-of-type {\n",
       "        vertical-align: middle;\n",
       "    }\n",
       "\n",
       "    .dataframe tbody tr th {\n",
       "        vertical-align: top;\n",
       "    }\n",
       "\n",
       "    .dataframe thead th {\n",
       "        text-align: right;\n",
       "    }\n",
       "</style>\n",
       "<table border=\"1\" class=\"dataframe\">\n",
       "  <thead>\n",
       "    <tr style=\"text-align: right;\">\n",
       "      <th></th>\n",
       "      <th>sentiment</th>\n",
       "      <th>message</th>\n",
       "    </tr>\n",
       "  </thead>\n",
       "  <tbody>\n",
       "    <tr>\n",
       "      <th>0</th>\n",
       "      <td>1</td>\n",
       "      <td>polyscimajor epa chief doesnt think carbon dio...</td>\n",
       "    </tr>\n",
       "    <tr>\n",
       "      <th>1</th>\n",
       "      <td>1</td>\n",
       "      <td>its not like we lack evidence of anthropogenic...</td>\n",
       "    </tr>\n",
       "    <tr>\n",
       "      <th>2</th>\n",
       "      <td>2</td>\n",
       "      <td>rt rawstory researchers say we have three year...</td>\n",
       "    </tr>\n",
       "    <tr>\n",
       "      <th>3</th>\n",
       "      <td>1</td>\n",
       "      <td>todayinmaker wired   was a pivotal year in the...</td>\n",
       "    </tr>\n",
       "    <tr>\n",
       "      <th>4</th>\n",
       "      <td>1</td>\n",
       "      <td>rt soynoviodetodas its  and a racist sexist cl...</td>\n",
       "    </tr>\n",
       "    <tr>\n",
       "      <th>...</th>\n",
       "      <td>...</td>\n",
       "      <td>...</td>\n",
       "    </tr>\n",
       "    <tr>\n",
       "      <th>15815</th>\n",
       "      <td>1</td>\n",
       "      <td>rt ezlusztig they took down the material on gl...</td>\n",
       "    </tr>\n",
       "    <tr>\n",
       "      <th>15816</th>\n",
       "      <td>2</td>\n",
       "      <td>rt washingtonpost how climate change could be ...</td>\n",
       "    </tr>\n",
       "    <tr>\n",
       "      <th>15817</th>\n",
       "      <td>0</td>\n",
       "      <td>notiven rt nytimesworld what does trump actual...</td>\n",
       "    </tr>\n",
       "    <tr>\n",
       "      <th>15818</th>\n",
       "      <td>-1</td>\n",
       "      <td>rt sarasmiles hey liberals the climate change ...</td>\n",
       "    </tr>\n",
       "    <tr>\n",
       "      <th>15819</th>\n",
       "      <td>0</td>\n",
       "      <td>rt chetcannon kurteichenwalds climate change e...</td>\n",
       "    </tr>\n",
       "  </tbody>\n",
       "</table>\n",
       "<p>15820 rows × 2 columns</p>\n",
       "</div>"
      ],
      "text/plain": [
       "       sentiment                                            message\n",
       "0              1  polyscimajor epa chief doesnt think carbon dio...\n",
       "1              1  its not like we lack evidence of anthropogenic...\n",
       "2              2  rt rawstory researchers say we have three year...\n",
       "3              1  todayinmaker wired   was a pivotal year in the...\n",
       "4              1  rt soynoviodetodas its  and a racist sexist cl...\n",
       "...          ...                                                ...\n",
       "15815          1  rt ezlusztig they took down the material on gl...\n",
       "15816          2  rt washingtonpost how climate change could be ...\n",
       "15817          0  notiven rt nytimesworld what does trump actual...\n",
       "15818         -1  rt sarasmiles hey liberals the climate change ...\n",
       "15819          0  rt chetcannon kurteichenwalds climate change e...\n",
       "\n",
       "[15820 rows x 2 columns]"
      ]
     },
     "execution_count": 96,
     "metadata": {},
     "output_type": "execute_result"
    }
   ],
   "source": [
    "all_sents"
   ]
  },
  {
   "cell_type": "code",
   "execution_count": 97,
   "metadata": {},
   "outputs": [
    {
     "data": {
      "text/plain": [
       "<matplotlib.axes._subplots.AxesSubplot at 0x1e42871eb88>"
      ]
     },
     "execution_count": 97,
     "metadata": {},
     "output_type": "execute_result"
    },
    {
     "data": {
      "image/png": "[encoded data removed]",
      "text/plain": [
       "<Figure size 432x288 with 1 Axes>"
      ]
     },
     "metadata": {
      "needs_background": "light"
     },
     "output_type": "display_data"
    }
   ],
   "source": [
    "# Plot messages by sentiment classes\n",
    "sum_sents.sort_values('message', ascending=False).plot(kind='bar')"
   ]
  },
  {
   "cell_type": "code",
   "execution_count": 98,
   "metadata": {},
   "outputs": [],
   "source": [
    "# Let's use the count vectorizer with its default hyperparameters\n",
    "vect = CountVectorizer()\n",
    "X_count = vect.fit_transform(all_sents['message'])"
   ]
  },
  {
   "cell_type": "code",
   "execution_count": 99,
   "metadata": {},
   "outputs": [],
   "source": [
    "vect_new = CountVectorizer(lowercase=True, stop_words='english',max_features=500,analyzer='word', ngram_range=(1, 3))\n",
    "X_count = vect_new.fit_transform(all_sents['message'])"
   ]
  },
  {
   "cell_type": "code",
   "execution_count": 100,
   "metadata": {},
   "outputs": [],
   "source": [
    "X = X_count.toarray()"
   ]
  },
  {
   "cell_type": "code",
   "execution_count": 101,
   "metadata": {},
   "outputs": [],
   "source": [
    "from sklearn.preprocessing import LabelEncoder\n",
    "le = LabelEncoder()\n",
    "# Fit label encoder and return encoded labels\n",
    "y = le.fit_transform(all_sents['sentiment'])"
   ]
  },
  {
   "cell_type": "code",
   "execution_count": 102,
   "metadata": {},
   "outputs": [],
   "source": [
    "# List of label encoder types to use for lookup \n",
    "type_labels = list(le.classes_)"
   ]
  },
  {
   "cell_type": "code",
   "execution_count": 103,
   "metadata": {},
   "outputs": [],
   "source": [
    "X_train, X_test, y_train, y_test = train_test_split(X, y, test_size=0.2, random_state=27)"
   ]
  },
  {
   "cell_type": "code",
   "execution_count": 104,
   "metadata": {},
   "outputs": [],
   "source": [
    "scaler = StandardScaler()\n",
    "X_train_scaled = scaler.fit_transform(X_train)\n",
    "X_test_scaled = scaler.transform(X_test)"
   ]
  },
  {
   "cell_type": "code",
   "execution_count": 70,
   "metadata": {},
   "outputs": [],
   "source": [
    "LogisticRegression = LogisticRegression()\n",
    "##Fitting the model with train dataset\n",
    "LogisticRegression = LogisticRegression.fit(X_train, y_train)"
   ]
  },
  {
   "cell_type": "code",
   "execution_count": 71,
   "metadata": {},
   "outputs": [
    {
     "name": "stdout",
     "output_type": "stream",
     "text": [
      "              precision    recall  f1-score   support\n",
      "\n",
      "           0       0.61      0.21      0.31       270\n",
      "           1       0.54      0.36      0.43       446\n",
      "           2       0.70      0.84      0.76      1729\n",
      "           3       0.66      0.64      0.65       719\n",
      "\n",
      "    accuracy                           0.67      3164\n",
      "   macro avg       0.63      0.51      0.54      3164\n",
      "weighted avg       0.66      0.67      0.65      3164\n",
      "\n",
      "0.672882427307206\n"
     ]
    }
   ],
   "source": [
    "# Getting predicions from the X_test\n",
    "predict = LogisticRegression.predict(X_test)\n",
    "#Pritting the classification report\n",
    "print(metrics.classification_report(y_test,predict))\n",
    "# Print the overall accuracy\n",
    "print(metrics.accuracy_score(y_test,predict))"
   ]
  },
  {
   "cell_type": "code",
   "execution_count": 108,
   "metadata": {},
   "outputs": [],
   "source": [
    "f1_logreg = f1_score(y_test, pred1, average='macro')\n",
    "precision_logreg = precision_score(y_test, pred1, average='macro')\n",
    "recall_logreg = recall_score(y_test, pred1, average='macro')"
   ]
  },
  {
   "cell_type": "code",
   "execution_count": 109,
   "metadata": {},
   "outputs": [],
   "source": [
    "params = {\"random_state\": 27,\n",
    "          \"model_type\": \"logreg\",\n",
    "          \"scaler\": \"standard scaler\"\n",
    "          }\n",
    "metrics = {\"f1_logreg\": f1_logreg,\n",
    "           \"recall_svc\": recall_logreg,\n",
    "           \"precision_svc\": precision_logreg\n",
    "           }"
   ]
  },
  {
   "cell_type": "code",
   "execution_count": 110,
   "metadata": {},
   "outputs": [],
   "source": [
    "comet_sec.log_parameters(params)\n",
    "comet_sec.log_metrics(metrics)"
   ]
  },
  {
   "cell_type": "code",
   "execution_count": 72,
   "metadata": {},
   "outputs": [],
   "source": [
    "LinearSVC = LinearSVC()\n",
    "##Fitting the model with train dataset\n",
    "LinearSVC = LinearSVC.fit(X_train, y_train)"
   ]
  },
  {
   "cell_type": "code",
   "execution_count": 73,
   "metadata": {},
   "outputs": [
    {
     "name": "stdout",
     "output_type": "stream",
     "text": [
      "              precision    recall  f1-score   support\n",
      "\n",
      "           0       0.61      0.17      0.27       270\n",
      "           1       0.52      0.28      0.36       446\n",
      "           2       0.69      0.85      0.76      1729\n",
      "           3       0.65      0.66      0.65       719\n",
      "\n",
      "    accuracy                           0.67      3164\n",
      "   macro avg       0.62      0.49      0.51      3164\n",
      "weighted avg       0.65      0.67      0.64      3164\n",
      "\n",
      "0.665929203539823\n"
     ]
    }
   ],
   "source": [
    "# Getting predicions from the X_test\n",
    "pred1 = LinearSVC.predict(X_test)\n",
    "#Printing the classification report\n",
    "print(metrics.classification_report(y_test, pred1))\n",
    "# Print the overall accuracy\n",
    "print(metrics.accuracy_score(y_test,pred1))"
   ]
  },
  {
   "cell_type": "code",
   "execution_count": 74,
   "metadata": {},
   "outputs": [],
   "source": [
    "f1_svc = f1_score(y_test, pred1, average='macro')\n",
    "precision_svc = precision_score(y_test, pred1, average='macro')\n",
    "recall_svc = recall_score(y_test, pred1, average='macro')"
   ]
  },
  {
   "cell_type": "code",
   "execution_count": 75,
   "metadata": {},
   "outputs": [],
   "source": [
    "params = {\"random_state\": 27,\n",
    "          \"model_type\": \"LinearSVC\",\n",
    "          \"scaler\": \"standard scaler\"\n",
    "          }\n",
    "metrics = {\"f1_svc\": f1_svc,\n",
    "           \"recall_svc\": recall_svc,\n",
    "           \"precision_svc\": precision_svc\n",
    "           }"
   ]
  },
  {
   "cell_type": "code",
   "execution_count": 76,
   "metadata": {},
   "outputs": [],
   "source": [
    "comet.log_parameters(params)\n",
    "comet.log_metrics(metrics)"
   ]
  },
  {
   "cell_type": "code",
   "execution_count": 105,
   "metadata": {},
   "outputs": [
    {
     "data": {
      "text/plain": [
       "BernoulliNB(alpha=2)"
      ]
     },
     "execution_count": 105,
     "metadata": {},
     "output_type": "execute_result"
    }
   ],
   "source": [
    "BNBmodel = BernoulliNB(alpha = 2)\n",
    "##Fitting the model with train dataset\n",
    "BNBmodel.fit(X_train, y_train)"
   ]
  },
  {
   "cell_type": "code",
   "execution_count": 106,
   "metadata": {},
   "outputs": [
    {
     "name": "stdout",
     "output_type": "stream",
     "text": [
      "              precision    recall  f1-score   support\n",
      "\n",
      "           0       0.32      0.24      0.27       270\n",
      "           1       0.35      0.51      0.41       446\n",
      "           2       0.81      0.51      0.63      1729\n",
      "           3       0.50      0.84      0.62       719\n",
      "\n",
      "    accuracy                           0.56      3164\n",
      "   macro avg       0.49      0.52      0.48      3164\n",
      "weighted avg       0.63      0.56      0.57      3164\n",
      "\n",
      "0.5619469026548672\n"
     ]
    }
   ],
   "source": [
    "# Getting predictions from the X_test\n",
    "pred4 = BNBmodel.predict(X_test)\n",
    "#Priting the classification report\n",
    "print(metrics.classification_report(y_test,pred4))\n",
    "# Print the overall accuracy\n",
    "print(metrics.accuracy_score(y_test,pred4))"
   ]
  },
  {
   "cell_type": "code",
   "execution_count": 28,
   "metadata": {},
   "outputs": [],
   "source": [
    "MultinomialNB = MultinomialNB()\n",
    "##Fitting the model with train dataset\n",
    "MultinomialNB  = MultinomialNB .fit(X_train, y_train)"
   ]
  },
  {
   "cell_type": "code",
   "execution_count": 29,
   "metadata": {},
   "outputs": [
    {
     "name": "stdout",
     "output_type": "stream",
     "text": [
      "              precision    recall  f1-score   support\n",
      "\n",
      "           0       0.36      0.29      0.32       270\n",
      "           1       0.31      0.44      0.36       446\n",
      "           2       0.78      0.51      0.62      1729\n",
      "           3       0.51      0.83      0.63       719\n",
      "\n",
      "    accuracy                           0.56      3164\n",
      "   macro avg       0.49      0.52      0.48      3164\n",
      "weighted avg       0.61      0.56      0.56      3164\n",
      "\n",
      "0.5553097345132744\n"
     ]
    }
   ],
   "source": [
    "# Getting predictions from the X_test\n",
    "pred3 = MultinomialNB.predict(X_test)\n",
    "#Priting the classification report\n",
    "print(metrics.classification_report(y_test,pred3))\n",
    "# Print the overall accuracy\n",
    "print(metrics.accuracy_score(y_test,pred3))"
   ]
  },
  {
   "cell_type": "code",
   "execution_count": 30,
   "metadata": {},
   "outputs": [
    {
     "data": {
      "text/plain": [
       "Text(0, 0.5, '# of observations')"
      ]
     },
     "execution_count": 30,
     "metadata": {},
     "output_type": "execute_result"
    },
    {
     "data": {
      "image/png": "[encoded data removed]",
      "text/plain": [
       "<Figure size 432x288 with 1 Axes>"
      ]
     },
     "metadata": {
      "needs_background": "light"
     },
     "output_type": "display_data"
    }
   ],
   "source": [
    "heights = [len(y[y == label]) for label in range(len(type_labels))]\n",
    "bars = pd.DataFrame(zip(heights,le.transform(type_labels).T, type_labels), columns=['heights','labels','names'])\n",
    "bars = bars.sort_values(by='heights',ascending=True)\n",
    "\n",
    "plt.bar(range(len(bars)),bars['heights'],color='grey')\n",
    "plt.xticks(range(len(bars)),bars['names'])\n",
    "plt.ylabel(\"# of observations\")"
   ]
  },
  {
   "cell_type": "code",
   "execution_count": 31,
   "metadata": {},
   "outputs": [],
   "source": [
    "# Let's pick a class size of roughly half the size of the largest size\n",
    "class_size = 30000"
   ]
  },
  {
   "cell_type": "code",
   "execution_count": 32,
   "metadata": {},
   "outputs": [],
   "source": [
    "data = np.concatenate([X, y[:,np.newaxis]], axis=1)"
   ]
  },
  {
   "cell_type": "code",
   "execution_count": 33,
   "metadata": {},
   "outputs": [],
   "source": [
    "bar_label_df = bars.set_index('labels')"
   ]
  },
  {
   "cell_type": "code",
   "execution_count": 34,
   "metadata": {},
   "outputs": [],
   "source": [
    "resampled_classes = []\n",
    "\n",
    "# For each label\n",
    "for label in range(len(type_labels)):\n",
    "    # Get num. of observations from this class\n",
    "    label_size = bar_label_df.loc[label]['heights']\n",
    "    \n",
    "    # If label_size < class size the upsample, else downsample\n",
    "    if label_size < class_size:\n",
    "        # Upsample\n",
    "        label_data = data[data[:,-1] == label]\n",
    "        label_resampled = resample(label_data,\n",
    "                                  replace=True, # sample with replacement (we need to duplicate observations)\n",
    "                                  n_samples=class_size, # number of desired samples\n",
    "                                  random_state=27) # reproducible results\n",
    "    else:\n",
    "        # Downsample\n",
    "        label_data = data[data[:,-1] == label]\n",
    "        label_resampled = resample(label_data,\n",
    "                                  replace=False, # sample without replacement (no need for duplicate observations)\n",
    "                                  n_samples=class_size, # number of desired samples\n",
    "                                  random_state=27) # reproducible results\n",
    "        \n",
    "    resampled_classes.append(label_resampled)"
   ]
  },
  {
   "cell_type": "code",
   "execution_count": 35,
   "metadata": {},
   "outputs": [],
   "source": [
    "resampled_data = np.concatenate(resampled_classes, axis=0)"
   ]
  },
  {
   "cell_type": "code",
   "execution_count": 36,
   "metadata": {},
   "outputs": [
    {
     "data": {
      "text/plain": [
       "(120000, 501)"
      ]
     },
     "execution_count": 36,
     "metadata": {},
     "output_type": "execute_result"
    }
   ],
   "source": [
    "resampled_data.shape"
   ]
  },
  {
   "cell_type": "code",
   "execution_count": 37,
   "metadata": {},
   "outputs": [],
   "source": [
    "X_resampled = resampled_data[:,:-1]"
   ]
  },
  {
   "cell_type": "code",
   "execution_count": 38,
   "metadata": {},
   "outputs": [],
   "source": [
    "y_resampled = resampled_data[:,-1]"
   ]
  },
  {
   "cell_type": "code",
   "execution_count": 39,
   "metadata": {},
   "outputs": [
    {
     "data": {
      "image/png": "[encoded data removed]",
      "text/plain": [
       "<Figure size 432x288 with 1 Axes>"
      ]
     },
     "metadata": {
      "needs_background": "light"
     },
     "output_type": "display_data"
    }
   ],
   "source": [
    "heights = [len(y_resampled[y_resampled == label]) for label in range(len(type_labels))]\n",
    "bars_resampled = pd.DataFrame(zip(heights,le.transform(type_labels).T, type_labels), columns=['heights','labels','names'])\n",
    "bars_resampled = bars_resampled.sort_values(by='heights',ascending=True)\n",
    "\n",
    "plt.bar(range(len(bars)),bars['heights'],color='grey')\n",
    "plt.bar(range(len(bars_resampled)),bars_resampled['heights'],color='orange')\n",
    "plt.xticks(range(len(bars)),bars['names'])\n",
    "plt.ylabel(\"# of observations\")\n",
    "plt.legend(['original','resampled'])\n",
    "plt.show()"
   ]
  },
  {
   "cell_type": "code",
   "execution_count": 40,
   "metadata": {},
   "outputs": [],
   "source": [
    "# Setting up the train_test_split\n",
    "X_train, X_test, y_train, y_test = train_test_split(X_resampled, y_resampled, test_size=0.2, random_state=27)"
   ]
  },
  {
   "cell_type": "code",
   "execution_count": 43,
   "metadata": {},
   "outputs": [],
   "source": [
    "LogisticRegression = LogisticRegression()\n",
    "##Fitting the model with train dataset\n",
    "LogisticRegression = LogisticRegression.fit(X_train, y_train)"
   ]
  },
  {
   "cell_type": "code",
   "execution_count": 44,
   "metadata": {},
   "outputs": [
    {
     "name": "stdout",
     "output_type": "stream",
     "text": [
      "              precision    recall  f1-score   support\n",
      "\n",
      "           0       0.63      0.60      0.61      5948\n",
      "           1       0.56      0.61      0.58      6054\n",
      "           2       0.65      0.53      0.58      5990\n",
      "           3       0.70      0.80      0.75      6008\n",
      "\n",
      "    accuracy                           0.63     24000\n",
      "   macro avg       0.63      0.63      0.63     24000\n",
      "weighted avg       0.63      0.63      0.63     24000\n",
      "\n",
      "0.6334166666666666\n"
     ]
    }
   ],
   "source": [
    "# Getting predicions from the X_test\n",
    "predict = LogisticRegression.predict(X_test)\n",
    "#Pritting the classification report\n",
    "print(metrics.classification_report(y_test,predict))\n",
    "# Print the overall accuracy\n",
    "print(metrics.accuracy_score(y_test,predict))"
   ]
  },
  {
   "cell_type": "code",
   "execution_count": 45,
   "metadata": {},
   "outputs": [],
   "source": [
    "LinearSVC = LinearSVC()\n",
    "##Fitting the model with train dataset\n",
    "LinearSVC_up = LinearSVC.fit(X_train, y_train)"
   ]
  },
  {
   "cell_type": "code",
   "execution_count": 46,
   "metadata": {},
   "outputs": [
    {
     "name": "stdout",
     "output_type": "stream",
     "text": [
      "              precision    recall  f1-score   support\n",
      "\n",
      "           0       0.63      0.59      0.61      5948\n",
      "           1       0.56      0.59      0.57      6054\n",
      "           2       0.67      0.51      0.58      5990\n",
      "           3       0.67      0.84      0.75      6008\n",
      "\n",
      "    accuracy                           0.63     24000\n",
      "   macro avg       0.63      0.63      0.63     24000\n",
      "weighted avg       0.63      0.63      0.63     24000\n",
      "\n",
      "0.631625\n"
     ]
    }
   ],
   "source": [
    "# Getting predicions from the X_test\n",
    "predict1 = LinearSVC_up.predict(X_test)\n",
    "#Printing the classification report\n",
    "print(metrics.classification_report(y_test, predict1))\n",
    "# Print the overall accuracy\n",
    "print(metrics.accuracy_score(y_test,predict1))"
   ]
  },
  {
   "cell_type": "code",
   "execution_count": null,
   "metadata": {},
   "outputs": [],
   "source": [
    "comet.log_parameters(params2)\n",
    "comet.log_metrics(metrics2)"
   ]
  },
  {
   "cell_type": "code",
   "execution_count": 47,
   "metadata": {},
   "outputs": [
    {
     "data": {
      "text/plain": [
       "BernoulliNB(alpha=2)"
      ]
     },
     "execution_count": 47,
     "metadata": {},
     "output_type": "execute_result"
    }
   ],
   "source": [
    "BNBmodel = BernoulliNB(alpha = 2)\n",
    "##Fitting the model with train dataset\n",
    "BNBmodel.fit(X_train, y_train)"
   ]
  },
  {
   "cell_type": "code",
   "execution_count": 48,
   "metadata": {},
   "outputs": [
    {
     "name": "stdout",
     "output_type": "stream",
     "text": [
      "              precision    recall  f1-score   support\n",
      "\n",
      "           0       0.61      0.48      0.53      5948\n",
      "           1       0.50      0.57      0.53      6054\n",
      "           2       0.63      0.38      0.47      5990\n",
      "           3       0.57      0.84      0.68      6008\n",
      "\n",
      "    accuracy                           0.57     24000\n",
      "   macro avg       0.58      0.57      0.55     24000\n",
      "weighted avg       0.58      0.57      0.55     24000\n",
      "\n",
      "0.5659583333333333\n"
     ]
    }
   ],
   "source": [
    "# Getting predictions from the X_test\n",
    "predict4 = BNBmodel.predict(X_test)\n",
    "#Priting the classification report\n",
    "print(metrics.classification_report(y_test,predict4))\n",
    "# Print the overall accuracy\n",
    "print(metrics.accuracy_score(y_test,predict4))"
   ]
  },
  {
   "cell_type": "code",
   "execution_count": 49,
   "metadata": {},
   "outputs": [],
   "source": [
    "MultinomialNB = MultinomialNB()\n",
    "##Fitting the model with train dataset\n",
    "MultinomialNB  = MultinomialNB .fit(X_train, y_train)"
   ]
  },
  {
   "cell_type": "code",
   "execution_count": 50,
   "metadata": {},
   "outputs": [
    {
     "name": "stdout",
     "output_type": "stream",
     "text": [
      "              precision    recall  f1-score   support\n",
      "\n",
      "           0       0.59      0.52      0.55      5948\n",
      "           1       0.48      0.52      0.50      6054\n",
      "           2       0.66      0.33      0.44      5990\n",
      "           3       0.55      0.85      0.67      6008\n",
      "\n",
      "    accuracy                           0.55     24000\n",
      "   macro avg       0.57      0.55      0.54     24000\n",
      "weighted avg       0.57      0.55      0.54     24000\n",
      "\n",
      "0.5549166666666666\n"
     ]
    }
   ],
   "source": [
    "# Getting predictions from the X_test\n",
    "predict3 = MultinomialNB.predict(X_test)\n",
    "#Priting the classification report\n",
    "print(metrics.classification_report(y_test,predict3))\n",
    "# Print the overall accuracy\n",
    "print(metrics.accuracy_score(y_test,predict3))"
   ]
  },
  {
   "cell_type": "code",
   "execution_count": 77,
   "metadata": {},
   "outputs": [
    {
     "name": "stderr",
     "output_type": "stream",
     "text": [
      "COMET INFO: ---------------------------\n",
      "COMET INFO: Comet.ml Experiment Summary\n",
      "COMET INFO: ---------------------------\n",
      "COMET INFO:   Data:\n",
      "COMET INFO:     display_summary_level : 1\n",
      "COMET INFO:     url                   : https://www.comet.ml/jolinda-hub/general/d253d0d6498a494985c9bd87a1b9980b\n",
      "COMET INFO:   Metrics:\n",
      "COMET INFO:     f1_svc        : 0.511051836853553\n",
      "COMET INFO:     precision_svc : 0.6177990471267255\n",
      "COMET INFO:     recall_svc    : 0.48886596567633017\n",
      "COMET INFO:   Parameters [count]:\n",
      "COMET INFO:     C                 : 1.0\n",
      "COMET INFO:     alpha [4]         : 1.0\n",
      "COMET INFO:     binarize          : 1\n",
      "COMET INFO:     class_prior       : 1\n",
      "COMET INFO:     class_weight      : 1\n",
      "COMET INFO:     dual              : 1\n",
      "COMET INFO:     fit_intercept     : True\n",
      "COMET INFO:     fit_prior         : True\n",
      "COMET INFO:     intercept_scaling : 1\n",
      "COMET INFO:     l1_ratio          : 1\n",
      "COMET INFO:     max_iter          : 100\n",
      "COMET INFO:     model_type        : LinearSVC\n",
      "COMET INFO:     multi_class       : auto\n",
      "COMET INFO:     n_jobs            : 1\n",
      "COMET INFO:     penalty           : l2\n",
      "COMET INFO:     random_state [2]  : 27\n",
      "COMET INFO:     scaler            : standard scaler\n",
      "COMET INFO:     solver            : lbfgs\n",
      "COMET INFO:     tol               : 0.0001\n",
      "COMET INFO:     verbose           : 1\n",
      "COMET INFO:     warm_start        : 1\n",
      "COMET INFO:   Uploads:\n",
      "COMET INFO:     code                : 1 (15 KB)\n",
      "COMET INFO:     environment details : 1\n",
      "COMET INFO:     filename            : 1\n",
      "COMET INFO:     installed packages  : 1\n",
      "COMET INFO:     notebook            : 1\n",
      "COMET INFO: ---------------------------\n",
      "COMET INFO: Uploading stats to Comet before program termination (may take several seconds)\n",
      "COMET INFO: Waiting for completion of the file uploads (may take several seconds)\n",
      "COMET INFO: Still uploading\n"
     ]
    }
   ],
   "source": [
    "comet.end()"
   ]
  },
  {
   "cell_type": "code",
   "execution_count": 111,
   "metadata": {},
   "outputs": [
    {
     "name": "stderr",
     "output_type": "stream",
     "text": [
      "COMET INFO: ---------------------------\n",
      "COMET INFO: Comet.ml Experiment Summary\n",
      "COMET INFO: ---------------------------\n",
      "COMET INFO:   Data:\n",
      "COMET INFO:     display_summary_level : 1\n",
      "COMET INFO:     url                   : https://www.comet.ml/jolinda-hub/general/8f32339a191e4948b663df745eb01b81\n",
      "COMET INFO:   Metrics:\n",
      "COMET INFO:     f1_logreg     : 0.511051836853553\n",
      "COMET INFO:     precision_svc : 0.6177990471267255\n",
      "COMET INFO:     recall_svc    : 0.48886596567633017\n",
      "COMET INFO:   Parameters:\n",
      "COMET INFO:     alpha        : 2\n",
      "COMET INFO:     binarize     : 1\n",
      "COMET INFO:     class_prior  : 1\n",
      "COMET INFO:     fit_prior    : True\n",
      "COMET INFO:     model_type   : logreg\n",
      "COMET INFO:     random_state : 27\n",
      "COMET INFO:     scaler       : standard scaler\n",
      "COMET INFO:   Uploads:\n",
      "COMET INFO:     code                : 1 (21 KB)\n",
      "COMET INFO:     environment details : 1\n",
      "COMET INFO:     filename            : 1\n",
      "COMET INFO:     installed packages  : 1\n",
      "COMET INFO:     notebook            : 1\n",
      "COMET INFO: ---------------------------\n",
      "COMET INFO: Uploading stats to Comet before program termination (may take several seconds)\n"
     ]
    }
   ],
   "source": [
    "comet_sec.end()"
   ]
  },
  {
   "cell_type": "code",
   "execution_count": 79,
   "metadata": {},
   "outputs": [
    {
     "data": {
      "text/html": [
       "\n",
       "        <iframe\n",
       "            width=\"100%\"\n",
       "            height=\"800px\"\n",
       "            src=\"https://www.comet.ml/jolinda-hub/general/d253d0d6498a494985c9bd87a1b9980b\"\n",
       "            frameborder=\"0\"\n",
       "            allowfullscreen\n",
       "        ></iframe>\n",
       "        "
      ],
      "text/plain": [
       "<IPython.lib.display.IFrame at 0x1e419f43c48>"
      ]
     },
     "metadata": {},
     "output_type": "display_data"
    }
   ],
   "source": [
    "comet.display()"
   ]
  },
  {
   "cell_type": "code",
   "execution_count": 112,
   "metadata": {},
   "outputs": [
    {
     "data": {
      "text/html": [
       "\n",
       "        <iframe\n",
       "            width=\"100%\"\n",
       "            height=\"800px\"\n",
       "            src=\"https://www.comet.ml/jolinda-hub/general/8f32339a191e4948b663df745eb01b81\"\n",
       "            frameborder=\"0\"\n",
       "            allowfullscreen\n",
       "        ></iframe>\n",
       "        "
      ],
      "text/plain": [
       "<IPython.lib.display.IFrame at 0x1e42506e608>"
      ]
     },
     "metadata": {},
     "output_type": "display_data"
    }
   ],
   "source": [
    "comet_sec.display()"
   ]
  },
  {
   "cell_type": "code",
   "execution_count": null,
   "metadata": {},
   "outputs": [],
   "source": []
  }
 ],
 "metadata": {
  "kernelspec": {
   "display_name": "Python 3",
   "language": "python",
   "name": "python3"
  },
  "language_info": {
   "codemirror_mode": {
    "name": "ipython",
    "version": 3
   },
   "file_extension": ".py",
   "mimetype": "text/x-python",
   "name": "python",
   "nbconvert_exporter": "python",
   "pygments_lexer": "ipython3",
   "version": "3.7.6"
  }
 },
 "nbformat": 4,
 "nbformat_minor": 4
}
