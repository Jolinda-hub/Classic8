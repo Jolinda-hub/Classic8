{
 "cells": [
  {
   "cell_type": "markdown",
   "metadata": {},
   "source": [
    "# Classification predict Climate Change"
   ]
  },
  {
   "cell_type": "markdown",
   "metadata": {
    "colab_type": "text",
    "id": "DfD7YsTc1Gv6"
   },
   "source": [
    "<img src=\"https://climate.nasa.gov/system/internal_resources/details/original/103_shutterstock_88550854-740px.jpg\" width=90%>"
   ]
  },
  {
   "cell_type": "markdown",
   "metadata": {},
   "source": [
    "# TABLE OF CONTENTS\n",
    "\n",
    "# 1. Introduction .....................................................................................................\n",
    "\n",
    "# 2. Importing libraries ..........................................................................................\n",
    "\n",
    "# 3. Uploading the Dataset ....................................................................................\n",
    "\n",
    "# 4. Exploratory Data Analysis ..............................................................................\n",
    "\n",
    "## 4.1. Dataset description ............................................................................................................\n",
    "## 4.2. The distribution of tweets messages over the classes ..................................................\n",
    "## 4.3. The distribution of URL per sentiments ........................................................................\n",
    "## 4.4. Word cloud ..........................................................................................................................\n",
    "## 4.5. Word frequency analysis ..................................................................................................\n",
    "\n",
    "# 5. Data preprocessing ........................................................................................\n",
    "\n",
    "## 5.1. Checking for nulls in the dataframes ...............................................................................\n",
    "## 5.2. Checking for blanks in the dataframes ..............................................................................\n",
    "## 5.3. Replacing URL ..................................................................................................................\n",
    "## 5.4. Removing stopwords, lowering the words as well as lemmatizing for both the train and the test dataframe .......................................................................................................................\n",
    "\n",
    "# 6. Modelling .........................................................................................................\n",
    "\n",
    "## 6.1. Defining variables .............................................................................................................\n",
    "## 6.2. Splitting the dataset ..........................................................................................................\n",
    "## 6.3. Model fitting .......................................................................................................................\n",
    "### 6.3.1. Parameters and TF-IDF Vectoriser explanation ...........................................................\n",
    "### 6.3.2. Models descriptions .......................................................................................................\n",
    "## 6.4. Model fitting for the  unbalanced data .............................................................................\n",
    "###    6.4.1. Logistic Regression Model .........................................................................................................................\n",
    "###    6.4.2. LinearSVC Model .........................................................................................................................................\n",
    "###    6.4.3. Support Vector Machine Model ..................................................................................................................\n",
    "###    6.4.4. Multinominal Naive Bayes Model ...............................................................................................................\n",
    "\n",
    "## 6.5. Resampling (Upscalling the mionrity class) ...................................................................\n",
    "## 6.6. Fitting for the balanced data ............................................................................................\n",
    "###    6.6.1. Logistic Regression Model ........................................................................................................................\n",
    "###    6.6.2. LinearSVC Model ........................................................................................................................................\n",
    "###    6.6.3. Support Vector Machine Model .................................................................................................................\n",
    "###    6.6.4. Multinominal Naive Bayes Model ..............................................................................................................\n",
    "\n",
    "\n",
    "# 7. Evaluation .......................................................................................................\n",
    "## 7.1. Evaluation metrics ............................................................................................................\n",
    "## 7.2. Predictions based on all the models fitted .....................................................................        \n",
    "# 8. Conclusion ......................................................................................................"
   ]
  },
  {
   "cell_type": "markdown",
   "metadata": {
    "colab_type": "text",
    "id": "9xnPU26h1GwB"
   },
   "source": [
    "# 1. Introduction"
   ]
  },
  {
   "cell_type": "markdown",
   "metadata": {
    "colab_type": "text",
    "id": "sfIjVtjt1GxA"
   },
   "source": [
    "Many companies are built around lessening one’s environmental impact or carbon footprint. They offer products and services that are environmentally friendly and sustainable, in line with their values and ideals. They would like to determine how people perceive climate change and whether or not they believe it is a real threat. This would add to their market research efforts in gauging how their product/service may be received.\n",
    "\n",
    "The task of the predict is to create a Machine Learning model that is able to classify whether or not a person believes in climate change, based on their novel tweet data.\n",
    "\n",
    "Being able to provide an accurate and robust solution to this task gives companies access to a broad base of consumer sentiment, spanning multiple demographic and geographic categories - thus increasing their insights and informing future marketing strategies.\n"
   ]
  },
  {
   "cell_type": "markdown",
   "metadata": {
    "colab_type": "text",
    "id": "yHGdmudW1GxI"
   },
   "source": [
    "# 2. Importing liabraries"
   ]
  },
  {
   "cell_type": "code",
   "execution_count": 146,
   "metadata": {},
   "outputs": [],
   "source": [
    "# utilities\n",
    "import numpy as np\n",
    "import pandas as pd\n",
    "\n",
    "# plotting\n",
    "import matplotlib.pyplot as plt\n",
    "from wordcloud import WordCloud\n",
    "import seaborn as sns\n",
    "plt.style.use('ggplot')\n",
    "%matplotlib inline\n",
    "sns.set()\n",
    "\n",
    "# nltk\n",
    "from nltk.tokenize import word_tokenize, TreebankWordTokenizer\n",
    "from nltk.corpus import stopwords\n",
    "from nltk.stem import WordNetLemmatizer\n",
    "from nltk.stem import SnowballStemmer\n",
    "import nltk\n",
    "import re\n",
    "\n",
    "# sklearn(classifier)\n",
    "from sklearn.feature_extraction.text import TfidfVectorizer\n",
    "from sklearn.feature_extraction.text import TfidfTransformer\n",
    "from sklearn.linear_model import LogisticRegression\n",
    "from sklearn.naive_bayes import MultinomialNB\n",
    "from sklearn.naive_bayes import BernoulliNB\n",
    "from sklearn.svm import LinearSVC\n",
    "from sklearn.svm import SVC\n",
    "\n",
    "#Metrics/Evaluation\n",
    "from sklearn.metrics import classification_report, accuracy_score, roc_auc_score\n",
    "from sklearn.model_selection import train_test_split\n",
    "from sklearn.model_selection import GridSearchCV\n",
    "from sklearn.preprocessing import StandardScaler\n",
    "from imblearn.over_sampling import SMOTE \n",
    "from sklearn.pipeline import Pipeline\n",
    "from sklearn.utils import resample\n",
    "from collections import Counter \n",
    "from sklearn import metrics"
   ]
  },
  {
   "cell_type": "code",
   "execution_count": 147,
   "metadata": {},
   "outputs": [
    {
     "name": "stdout",
     "output_type": "stream",
     "text": [
      "Requirement already satisfied: imblearn in c:\\users\\siyam\\anaconda3\\new folder\\lib\\site-packages (0.0)\n",
      "Requirement already satisfied: imbalanced-learn in c:\\users\\siyam\\anaconda3\\new folder\\lib\\site-packages (from imblearn) (0.7.0)\n",
      "Requirement already satisfied: numpy>=1.13.3 in c:\\users\\siyam\\anaconda3\\new folder\\lib\\site-packages (from imbalanced-learn->imblearn) (1.18.4)\n",
      "Requirement already satisfied: scipy>=0.19.1 in c:\\users\\siyam\\anaconda3\\new folder\\lib\\site-packages (from imbalanced-learn->imblearn) (1.4.1)\n",
      "Requirement already satisfied: scikit-learn>=0.23 in c:\\users\\siyam\\anaconda3\\new folder\\lib\\site-packages (from imbalanced-learn->imblearn) (0.23.1)\n",
      "Requirement already satisfied: joblib>=0.11 in c:\\users\\siyam\\anaconda3\\new folder\\lib\\site-packages (from imbalanced-learn->imblearn) (0.14.1)\n",
      "Requirement already satisfied: threadpoolctl>=2.0.0 in c:\\users\\siyam\\anaconda3\\new folder\\lib\\site-packages (from scikit-learn>=0.23->imbalanced-learn->imblearn) (2.1.0)\n"
     ]
    }
   ],
   "source": [
    "!pip install imblearn"
   ]
  },
  {
   "cell_type": "code",
   "execution_count": 148,
   "metadata": {},
   "outputs": [
    {
     "name": "stdout",
     "output_type": "stream",
     "text": [
      "Requirement already satisfied: wordcloud in c:\\users\\siyam\\anaconda3\\new folder\\lib\\site-packages (1.7.0)\n",
      "Requirement already satisfied: pillow in c:\\users\\siyam\\anaconda3\\new folder\\lib\\site-packages (from wordcloud) (7.0.0)\n",
      "Requirement already satisfied: matplotlib in c:\\users\\siyam\\anaconda3\\new folder\\lib\\site-packages (from wordcloud) (3.1.3)\n",
      "Requirement already satisfied: numpy>=1.6.1 in c:\\users\\siyam\\anaconda3\\new folder\\lib\\site-packages (from wordcloud) (1.18.4)\n",
      "Requirement already satisfied: python-dateutil>=2.1 in c:\\users\\siyam\\anaconda3\\new folder\\lib\\site-packages (from matplotlib->wordcloud) (2.8.1)\n",
      "Requirement already satisfied: kiwisolver>=1.0.1 in c:\\users\\siyam\\anaconda3\\new folder\\lib\\site-packages (from matplotlib->wordcloud) (1.1.0)\n",
      "Requirement already satisfied: pyparsing!=2.0.4,!=2.1.2,!=2.1.6,>=2.0.1 in c:\\users\\siyam\\anaconda3\\new folder\\lib\\site-packages (from matplotlib->wordcloud) (2.4.6)\n",
      "Requirement already satisfied: cycler>=0.10 in c:\\users\\siyam\\anaconda3\\new folder\\lib\\site-packages (from matplotlib->wordcloud) (0.10.0)\n",
      "Requirement already satisfied: six>=1.5 in c:\\users\\siyam\\anaconda3\\new folder\\lib\\site-packages (from python-dateutil>=2.1->matplotlib->wordcloud) (1.14.0)\n",
      "Requirement already satisfied: setuptools in c:\\users\\siyam\\anaconda3\\new folder\\lib\\site-packages (from kiwisolver>=1.0.1->matplotlib->wordcloud) (45.2.0.post20200210)\n"
     ]
    }
   ],
   "source": [
    "!pip install wordcloud"
   ]
  },
  {
   "cell_type": "markdown",
   "metadata": {},
   "source": [
    "/////////////////////////////////////////////////////////////////////////////////////////////////////////////////////////////////////////////////////////////////////////////////////////////////////////////////////////////////////////////////////////////"
   ]
  },
  {
   "cell_type": "markdown",
   "metadata": {
    "colab_type": "text",
    "id": "TBwoNTIx1Gy_"
   },
   "source": [
    "# 3. Uploading the dataset"
   ]
  },
  {
   "cell_type": "code",
   "execution_count": 149,
   "metadata": {
    "colab": {},
    "colab_type": "code",
    "id": "antttYPa1GzF"
   },
   "outputs": [],
   "source": [
    "train = pd.read_csv('C:/Users/siyam/classification data/train.csv')\n",
    "test = pd.read_csv('C:/Users/siyam/classification data/test.csv')"
   ]
  },
  {
   "cell_type": "code",
   "execution_count": 150,
   "metadata": {
    "colab": {
     "base_uri": "https://localhost:8080/",
     "height": 202
    },
    "colab_type": "code",
    "id": "w9jofV1l_t_9",
    "outputId": "bfc10c50-5866-4fb6-8555-dedec23f94e3"
   },
   "outputs": [
    {
     "data": {
      "text/html": [
       "<div>\n",
       "<style scoped>\n",
       "    .dataframe tbody tr th:only-of-type {\n",
       "        vertical-align: middle;\n",
       "    }\n",
       "\n",
       "    .dataframe tbody tr th {\n",
       "        vertical-align: top;\n",
       "    }\n",
       "\n",
       "    .dataframe thead th {\n",
       "        text-align: right;\n",
       "    }\n",
       "</style>\n",
       "<table border=\"1\" class=\"dataframe\">\n",
       "  <thead>\n",
       "    <tr style=\"text-align: right;\">\n",
       "      <th></th>\n",
       "      <th>sentiment</th>\n",
       "      <th>message</th>\n",
       "      <th>tweetid</th>\n",
       "    </tr>\n",
       "  </thead>\n",
       "  <tbody>\n",
       "    <tr>\n",
       "      <th>0</th>\n",
       "      <td>1</td>\n",
       "      <td>PolySciMajor EPA chief doesn't think carbon di...</td>\n",
       "      <td>625221</td>\n",
       "    </tr>\n",
       "    <tr>\n",
       "      <th>1</th>\n",
       "      <td>1</td>\n",
       "      <td>It's not like we lack evidence of anthropogeni...</td>\n",
       "      <td>126103</td>\n",
       "    </tr>\n",
       "    <tr>\n",
       "      <th>2</th>\n",
       "      <td>2</td>\n",
       "      <td>RT @RawStory: Researchers say we have three ye...</td>\n",
       "      <td>698562</td>\n",
       "    </tr>\n",
       "    <tr>\n",
       "      <th>3</th>\n",
       "      <td>1</td>\n",
       "      <td>#TodayinMaker# WIRED : 2016 was a pivotal year...</td>\n",
       "      <td>573736</td>\n",
       "    </tr>\n",
       "    <tr>\n",
       "      <th>4</th>\n",
       "      <td>1</td>\n",
       "      <td>RT @SoyNovioDeTodas: It's 2016, and a racist, ...</td>\n",
       "      <td>466954</td>\n",
       "    </tr>\n",
       "  </tbody>\n",
       "</table>\n",
       "</div>"
      ],
      "text/plain": [
       "   sentiment                                            message  tweetid\n",
       "0          1  PolySciMajor EPA chief doesn't think carbon di...   625221\n",
       "1          1  It's not like we lack evidence of anthropogeni...   126103\n",
       "2          2  RT @RawStory: Researchers say we have three ye...   698562\n",
       "3          1  #TodayinMaker# WIRED : 2016 was a pivotal year...   573736\n",
       "4          1  RT @SoyNovioDeTodas: It's 2016, and a racist, ...   466954"
      ]
     },
     "execution_count": 150,
     "metadata": {},
     "output_type": "execute_result"
    }
   ],
   "source": [
    "train.head()"
   ]
  },
  {
   "cell_type": "code",
   "execution_count": 151,
   "metadata": {
    "colab": {
     "base_uri": "https://localhost:8080/",
     "height": 202
    },
    "colab_type": "code",
    "id": "_p7ZOOTz_zsd",
    "outputId": "04ad10f7-0c77-46af-b335-ce428aa86e9a"
   },
   "outputs": [
    {
     "data": {
      "text/html": [
       "<div>\n",
       "<style scoped>\n",
       "    .dataframe tbody tr th:only-of-type {\n",
       "        vertical-align: middle;\n",
       "    }\n",
       "\n",
       "    .dataframe tbody tr th {\n",
       "        vertical-align: top;\n",
       "    }\n",
       "\n",
       "    .dataframe thead th {\n",
       "        text-align: right;\n",
       "    }\n",
       "</style>\n",
       "<table border=\"1\" class=\"dataframe\">\n",
       "  <thead>\n",
       "    <tr style=\"text-align: right;\">\n",
       "      <th></th>\n",
       "      <th>message</th>\n",
       "      <th>tweetid</th>\n",
       "    </tr>\n",
       "  </thead>\n",
       "  <tbody>\n",
       "    <tr>\n",
       "      <th>0</th>\n",
       "      <td>Europe will now be looking to China to make su...</td>\n",
       "      <td>169760</td>\n",
       "    </tr>\n",
       "    <tr>\n",
       "      <th>1</th>\n",
       "      <td>Combine this with the polling of staffers re c...</td>\n",
       "      <td>35326</td>\n",
       "    </tr>\n",
       "    <tr>\n",
       "      <th>2</th>\n",
       "      <td>The scary, unimpeachable evidence that climate...</td>\n",
       "      <td>224985</td>\n",
       "    </tr>\n",
       "    <tr>\n",
       "      <th>3</th>\n",
       "      <td>@Karoli @morgfair @OsborneInk @dailykos \\nPuti...</td>\n",
       "      <td>476263</td>\n",
       "    </tr>\n",
       "    <tr>\n",
       "      <th>4</th>\n",
       "      <td>RT @FakeWillMoore: 'Female orgasms cause globa...</td>\n",
       "      <td>872928</td>\n",
       "    </tr>\n",
       "  </tbody>\n",
       "</table>\n",
       "</div>"
      ],
      "text/plain": [
       "                                             message  tweetid\n",
       "0  Europe will now be looking to China to make su...   169760\n",
       "1  Combine this with the polling of staffers re c...    35326\n",
       "2  The scary, unimpeachable evidence that climate...   224985\n",
       "3  @Karoli @morgfair @OsborneInk @dailykos \\nPuti...   476263\n",
       "4  RT @FakeWillMoore: 'Female orgasms cause globa...   872928"
      ]
     },
     "execution_count": 151,
     "metadata": {},
     "output_type": "execute_result"
    }
   ],
   "source": [
    "test.head()"
   ]
  },
  {
   "cell_type": "markdown",
   "metadata": {},
   "source": [
    "////////////////////////////////////////////////////////////////////////////////////////////////////////////////////////////////////////////////////////////////////////////////////////////////////////////////////////////////////////////////////////////\n"
   ]
  },
  {
   "cell_type": "markdown",
   "metadata": {
    "colab_type": "text",
    "id": "fh1RpOoF1Gyz"
   },
   "source": [
    "# 4. Exploratory Data Analysis"
   ]
  },
  {
   "cell_type": "markdown",
   "metadata": {
    "colab_type": "text",
    "id": "YBKdLTvxnrwy"
   },
   "source": [
    "## 4.1. Dataset description"
   ]
  },
  {
   "cell_type": "markdown",
   "metadata": {
    "colab_type": "text",
    "id": "3v58V6D5jQ4L"
   },
   "source": [
    "\n",
    "Here is a quick explanation of the columns in the datasets:\n",
    "* tweetid — the id of the tweet message on Twitter.\n",
    "* message — the tweet messages for each tweetid\n",
    "* sentiment — the sentiment of the tweet messages from 2, 1, 0, and -1.\n",
    "\n",
    "\n",
    "*  The uploaded datasets are train and the test dataset, the train dataset contain three columns which are sentiment,  tweet message and tweetid while the test dataset contains the tweet message and the tweetid column.\n",
    "\n",
    "\n",
    "*   The sentiment column  has four classes which are represented by four numbers 2, 1, 0, -1, the following picture shows the description of the four classes:\n",
    "\n",
    "\n",
    "![image.png](data:image/png;base64,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)"
   ]
  },
  {
   "cell_type": "markdown",
   "metadata": {
    "colab_type": "text",
    "id": "8PaTHv2A4Uqd"
   },
   "source": [
    "### Words in each tweet"
   ]
  },
  {
   "cell_type": "code",
   "execution_count": 152,
   "metadata": {
    "colab": {
     "base_uri": "https://localhost:8080/",
     "height": 191
    },
    "colab_type": "code",
    "id": "tq3Fxpds4hOS",
    "outputId": "8e3b06bf-1d06-4a39-de3b-269e6132fcef"
   },
   "outputs": [
    {
     "name": "stdout",
     "output_type": "stream",
     "text": [
      "<class 'pandas.core.frame.DataFrame'>\n",
      "RangeIndex: 15819 entries, 0 to 15818\n",
      "Data columns (total 3 columns):\n",
      " #   Column     Non-Null Count  Dtype \n",
      "---  ------     --------------  ----- \n",
      " 0   sentiment  15819 non-null  int64 \n",
      " 1   message    15819 non-null  object\n",
      " 2   tweetid    15819 non-null  int64 \n",
      "dtypes: int64(2), object(1)\n",
      "memory usage: 370.9+ KB\n"
     ]
    }
   ],
   "source": [
    "train.info()"
   ]
  },
  {
   "cell_type": "markdown",
   "metadata": {
    "colab_type": "text",
    "id": "qj99_l8x4vS6"
   },
   "source": [
    "* There are total 15819 tweets in the train dataset.\n",
    "All the columns in the dataset have no null values.\n",
    "Sentiment and tweetid columns consist of integer values, whereas message column is of object data type.  "
   ]
  },
  {
   "cell_type": "code",
   "execution_count": 153,
   "metadata": {
    "colab": {
     "base_uri": "https://localhost:8080/",
     "height": 415
    },
    "colab_type": "code",
    "id": "VHlTrWJ944KT",
    "outputId": "f06fa330-fcc9-4741-a6a3-25acbd9aa0ca"
   },
   "outputs": [
    {
     "data": {
      "text/html": [
       "<div>\n",
       "<style scoped>\n",
       "    .dataframe tbody tr th:only-of-type {\n",
       "        vertical-align: middle;\n",
       "    }\n",
       "\n",
       "    .dataframe tbody tr th {\n",
       "        vertical-align: top;\n",
       "    }\n",
       "\n",
       "    .dataframe thead th {\n",
       "        text-align: right;\n",
       "    }\n",
       "</style>\n",
       "<table border=\"1\" class=\"dataframe\">\n",
       "  <thead>\n",
       "    <tr style=\"text-align: right;\">\n",
       "      <th></th>\n",
       "      <th>sentiment</th>\n",
       "      <th>message</th>\n",
       "      <th>tweetid</th>\n",
       "      <th>token_length</th>\n",
       "    </tr>\n",
       "  </thead>\n",
       "  <tbody>\n",
       "    <tr>\n",
       "      <th>0</th>\n",
       "      <td>1</td>\n",
       "      <td>PolySciMajor EPA chief doesn't think carbon di...</td>\n",
       "      <td>625221</td>\n",
       "      <td>19</td>\n",
       "    </tr>\n",
       "    <tr>\n",
       "      <th>1</th>\n",
       "      <td>1</td>\n",
       "      <td>It's not like we lack evidence of anthropogeni...</td>\n",
       "      <td>126103</td>\n",
       "      <td>10</td>\n",
       "    </tr>\n",
       "    <tr>\n",
       "      <th>2</th>\n",
       "      <td>2</td>\n",
       "      <td>RT @RawStory: Researchers say we have three ye...</td>\n",
       "      <td>698562</td>\n",
       "      <td>19</td>\n",
       "    </tr>\n",
       "    <tr>\n",
       "      <th>3</th>\n",
       "      <td>1</td>\n",
       "      <td>#TodayinMaker# WIRED : 2016 was a pivotal year...</td>\n",
       "      <td>573736</td>\n",
       "      <td>15</td>\n",
       "    </tr>\n",
       "    <tr>\n",
       "      <th>4</th>\n",
       "      <td>1</td>\n",
       "      <td>RT @SoyNovioDeTodas: It's 2016, and a racist, ...</td>\n",
       "      <td>466954</td>\n",
       "      <td>18</td>\n",
       "    </tr>\n",
       "    <tr>\n",
       "      <th>...</th>\n",
       "      <td>...</td>\n",
       "      <td>...</td>\n",
       "      <td>...</td>\n",
       "      <td>...</td>\n",
       "    </tr>\n",
       "    <tr>\n",
       "      <th>15814</th>\n",
       "      <td>1</td>\n",
       "      <td>RT @ezlusztig: They took down the material on ...</td>\n",
       "      <td>22001</td>\n",
       "      <td>22</td>\n",
       "    </tr>\n",
       "    <tr>\n",
       "      <th>15815</th>\n",
       "      <td>2</td>\n",
       "      <td>RT @washingtonpost: How climate change could b...</td>\n",
       "      <td>17856</td>\n",
       "      <td>13</td>\n",
       "    </tr>\n",
       "    <tr>\n",
       "      <th>15816</th>\n",
       "      <td>0</td>\n",
       "      <td>notiven: RT: nytimesworld :What does Trump act...</td>\n",
       "      <td>384248</td>\n",
       "      <td>19</td>\n",
       "    </tr>\n",
       "    <tr>\n",
       "      <th>15817</th>\n",
       "      <td>-1</td>\n",
       "      <td>RT @sara8smiles: Hey liberals the climate chan...</td>\n",
       "      <td>819732</td>\n",
       "      <td>20</td>\n",
       "    </tr>\n",
       "    <tr>\n",
       "      <th>15818</th>\n",
       "      <td>0</td>\n",
       "      <td>RT @Chet_Cannon: .@kurteichenwald's 'climate c...</td>\n",
       "      <td>806319</td>\n",
       "      <td>10</td>\n",
       "    </tr>\n",
       "  </tbody>\n",
       "</table>\n",
       "<p>15819 rows × 4 columns</p>\n",
       "</div>"
      ],
      "text/plain": [
       "       sentiment                                            message  tweetid  \\\n",
       "0              1  PolySciMajor EPA chief doesn't think carbon di...   625221   \n",
       "1              1  It's not like we lack evidence of anthropogeni...   126103   \n",
       "2              2  RT @RawStory: Researchers say we have three ye...   698562   \n",
       "3              1  #TodayinMaker# WIRED : 2016 was a pivotal year...   573736   \n",
       "4              1  RT @SoyNovioDeTodas: It's 2016, and a racist, ...   466954   \n",
       "...          ...                                                ...      ...   \n",
       "15814          1  RT @ezlusztig: They took down the material on ...    22001   \n",
       "15815          2  RT @washingtonpost: How climate change could b...    17856   \n",
       "15816          0  notiven: RT: nytimesworld :What does Trump act...   384248   \n",
       "15817         -1  RT @sara8smiles: Hey liberals the climate chan...   819732   \n",
       "15818          0  RT @Chet_Cannon: .@kurteichenwald's 'climate c...   806319   \n",
       "\n",
       "       token_length  \n",
       "0                19  \n",
       "1                10  \n",
       "2                19  \n",
       "3                15  \n",
       "4                18  \n",
       "...             ...  \n",
       "15814            22  \n",
       "15815            13  \n",
       "15816            19  \n",
       "15817            20  \n",
       "15818            10  \n",
       "\n",
       "[15819 rows x 4 columns]"
      ]
     },
     "execution_count": 153,
     "metadata": {},
     "output_type": "execute_result"
    }
   ],
   "source": [
    "# look at how many words are there in each tweet message.\n",
    "train['token_length'] = [len(x.split(\" \")) for x in train.message]\n",
    "train # call train df"
   ]
  },
  {
   "cell_type": "code",
   "execution_count": 154,
   "metadata": {
    "colab": {
     "base_uri": "https://localhost:8080/",
     "height": 35
    },
    "colab_type": "code",
    "id": "3g5HxF7R49tb",
    "outputId": "378ceada-2b88-450c-fb8f-919da067e33a"
   },
   "outputs": [
    {
     "name": "stdout",
     "output_type": "stream",
     "text": [
      "!\"#$%&'()*+,-./:;<=>?@[\\]^_`{|}~\n"
     ]
    }
   ],
   "source": [
    "#how many punctuation marks in the messages\n",
    "import string\n",
    "print(string.punctuation)\n",
    "\n",
    "def total_punctuation_marks(col):\n",
    "    list_of_messages = list(train['message'])\n",
    "    for x in list_of_messages:\n",
    "        extracted_punctuation = []\n",
    "        for i in range(len(x)):\n",
    "            counter = 1\n",
    "            if x[i] in string.punctuation:\n",
    "                counter =1\n",
    "                while counter < len(x):\n",
    "                    counter += 1\n",
    "                punctuation = x[(i):counter]\n",
    "                extracted_punctuation.append(punctuation.lower())\n",
    "        if extracted_punctuation == []:\n",
    "            extracted_punctuation = np.nan\n",
    "    return len(punctuation)\n",
    "        "
   ]
  },
  {
   "cell_type": "code",
   "execution_count": 155,
   "metadata": {
    "colab": {},
    "colab_type": "code",
    "id": "VFX-FeRw5CF1"
   },
   "outputs": [
    {
     "data": {
      "text/plain": [
       "11"
      ]
     },
     "execution_count": 155,
     "metadata": {},
     "output_type": "execute_result"
    }
   ],
   "source": [
    "total_punctuation_marks(train.message)"
   ]
  },
  {
   "cell_type": "markdown",
   "metadata": {
    "colab_type": "text",
    "id": "KGlaNubU5IU0"
   },
   "source": [
    " - we can see that most tweets support the fact that climate change is man-made"
   ]
  },
  {
   "cell_type": "code",
   "execution_count": 156,
   "metadata": {
    "colab": {},
    "colab_type": "code",
    "id": "oMDMcNG15UJ4"
   },
   "outputs": [
    {
     "data": {
      "text/plain": [
       "31"
      ]
     },
     "execution_count": 156,
     "metadata": {},
     "output_type": "execute_result"
    }
   ],
   "source": [
    "# maximum length\n",
    "max(train.token_length)"
   ]
  },
  {
   "cell_type": "markdown",
   "metadata": {
    "colab_type": "text",
    "id": "MUmwitMd5XtB"
   },
   "source": [
    "* token_lenth column outline number of words that are there in each tweet message. And we see that the maximum length is 31"
   ]
  },
  {
   "cell_type": "markdown",
   "metadata": {
    "colab_type": "text",
    "id": "Z-Yx6xnM1Gy2"
   },
   "source": [
    "## 4.2. The distribution of tweets messages over the classes"
   ]
  },
  {
   "cell_type": "code",
   "execution_count": 157,
   "metadata": {
    "colab": {
     "base_uri": "https://localhost:8080/",
     "height": 104
    },
    "colab_type": "code",
    "id": "YdE86NsB5jG1",
    "outputId": "9fedfdcc-94ef-48ef-ef92-5847227277a7"
   },
   "outputs": [
    {
     "data": {
      "text/plain": [
       " 1    8530\n",
       " 2    3640\n",
       " 0    2353\n",
       "-1    1296\n",
       "Name: sentiment, dtype: int64"
      ]
     },
     "execution_count": 157,
     "metadata": {},
     "output_type": "execute_result"
    }
   ],
   "source": [
    "train.sentiment.value_counts()"
   ]
  },
  {
   "cell_type": "code",
   "execution_count": 185,
   "metadata": {
    "colab": {
     "base_uri": "https://localhost:8080/",
     "height": 301
    },
    "colab_type": "code",
    "id": "2ZX_Z7z4Be4t",
    "outputId": "5a62653a-a0bb-469e-fc50-efe3eea92ab5"
   },
   "outputs": [
    {
     "data": {
      "image/png": "[encoded data removed]",
      "text/plain": [
       "<Figure size 432x288 with 1 Axes>"
      ]
     },
     "metadata": {},
     "output_type": "display_data"
    },
    {
     "data": {
      "text/plain": [
       "<Figure size 432x288 with 0 Axes>"
      ]
     },
     "metadata": {},
     "output_type": "display_data"
    }
   ],
   "source": [
    "# message  Distribution over the classes\n",
    "dist_class = train['sentiment'].value_counts()\n",
    "labels = ['1', '2','0','-1']\n",
    "sns.color_palette('hls')\n",
    "\n",
    "# Bar graph plot\n",
    "sns.barplot(x=dist_class.index, y=dist_class, data = train).set_title(\"Tweet message distribution over the sentiments\")\n",
    "plt.ylabel('Count')\n",
    "plt.xlabel('Sentiment')\n",
    "plt.show()\n",
    "plt.savefig('Tweet message distribution over the sentiments.png')"
   ]
  },
  {
   "cell_type": "code",
   "execution_count": 159,
   "metadata": {
    "colab": {
     "base_uri": "https://localhost:8080/",
     "height": 281
    },
    "colab_type": "code",
    "id": "LnUF-QhY5yPd",
    "outputId": "9698850e-2ce2-499e-824f-80bcd493a917"
   },
   "outputs": [
    {
     "data": {
      "text/plain": [
       "Text(0.5, 1.0, 'Tweet message distribution over the sentiments')"
      ]
     },
     "execution_count": 159,
     "metadata": {},
     "output_type": "execute_result"
    },
    {
     "data": {
      "image/png": "[encoded data removed]",
      "text/plain": [
       "<Figure size 432x288 with 1 Axes>"
      ]
     },
     "metadata": {},
     "output_type": "display_data"
    }
   ],
   "source": [
    "# pie plot\n",
    "colors = ['green', 'red', 'orange', 'blue']\n",
    "plt.pie(dist_class,\n",
    "        labels=labels,\n",
    "        colors = colors,\n",
    "        counterclock=False,\n",
    "        startangle=90,\n",
    "        autopct='%1.1f%%',\n",
    "        pctdistance=0.7)\n",
    "plt.title(\"Tweet message distribution over the sentiments\")"
   ]
  },
  {
   "cell_type": "markdown",
   "metadata": {
    "colab_type": "text",
    "id": "p-C5I1YwDq1S"
   },
   "source": [
    "\n",
    "## The visualisations above indicates that :\n",
    "* There are 8530 tweet messages on count that support the believe of man-made climate change(sentiment: 1), which is 53.9%(shown on pie chat).\n",
    "* There are 1296 tweet messages on count that does not believe in man-made climate change(sentiment: -1), which is 8.2% on pie chat.\n",
    "* There are 2353 tweet messages on count where the tweet message neither supports nor refuses the belief of man-made climate change(sentiment: 0), which is 14.9% (see pie chat).\n",
    "* There is also 3640 tweet messages on count which links factual news about climate change, and gives about 23.0%(see pie chat)\n",
    "* We then conlude that the distribution of tweets messages are unevenly distributed in the four given classes.\n",
    "* Hence, we futher conclude that the classes are somehow imbalanced, and this may affect the accuracy of the model(s).\n",
    "* The imbalance of the classes can be solved by the method called resampling (Downscalling and Upscalling) which  involve modifying the number of observations in each class. \n"
   ]
  },
  {
   "cell_type": "markdown",
   "metadata": {
    "colab_type": "text",
    "id": "vg0SIBwdkKDY"
   },
   "source": [
    "## 4.3. The distribution of URL per sendiments "
   ]
  },
  {
   "cell_type": "code",
   "execution_count": 160,
   "metadata": {
    "colab": {},
    "colab_type": "code",
    "id": "v4DmVfrgqBP0"
   },
   "outputs": [],
   "source": [
    "# Convert to lower\n",
    "train['target']=train['message'].str.lower()"
   ]
  },
  {
   "cell_type": "code",
   "execution_count": 161,
   "metadata": {
    "colab": {
     "base_uri": "https://localhost:8080/",
     "height": 171
    },
    "colab_type": "code",
    "id": "s1dMjf4hqJfA",
    "outputId": "73dfe6bb-d2b0-454b-e08a-a6a0b9327620"
   },
   "outputs": [
    {
     "data": {
      "text/html": [
       "<div>\n",
       "<style scoped>\n",
       "    .dataframe tbody tr th:only-of-type {\n",
       "        vertical-align: middle;\n",
       "    }\n",
       "\n",
       "    .dataframe tbody tr th {\n",
       "        vertical-align: top;\n",
       "    }\n",
       "\n",
       "    .dataframe thead th {\n",
       "        text-align: right;\n",
       "    }\n",
       "</style>\n",
       "<table border=\"1\" class=\"dataframe\">\n",
       "  <thead>\n",
       "    <tr style=\"text-align: right;\">\n",
       "      <th></th>\n",
       "      <th>sentiment</th>\n",
       "      <th>url_count</th>\n",
       "    </tr>\n",
       "  </thead>\n",
       "  <tbody>\n",
       "    <tr>\n",
       "      <th>0</th>\n",
       "      <td>1</td>\n",
       "      <td>3789</td>\n",
       "    </tr>\n",
       "    <tr>\n",
       "      <th>1</th>\n",
       "      <td>2</td>\n",
       "      <td>3199</td>\n",
       "    </tr>\n",
       "    <tr>\n",
       "      <th>2</th>\n",
       "      <td>0</td>\n",
       "      <td>794</td>\n",
       "    </tr>\n",
       "    <tr>\n",
       "      <th>3</th>\n",
       "      <td>-1</td>\n",
       "      <td>513</td>\n",
       "    </tr>\n",
       "  </tbody>\n",
       "</table>\n",
       "</div>"
      ],
      "text/plain": [
       "   sentiment  url_count\n",
       "0          1       3789\n",
       "1          2       3199\n",
       "2          0        794\n",
       "3         -1        513"
      ]
     },
     "execution_count": 161,
     "metadata": {},
     "output_type": "execute_result"
    }
   ],
   "source": [
    "# Find URL\n",
    "def find_link(string): \n",
    "    url = re.findall('http[s]?://(?:[a-zA-Z]|[0-9]|[$-_@.&+]|[!*\\(\\),]|(?:%[0-9a-fA-F][0-9a-fA-F]))+', string)\n",
    "    return \"\".join(url) \n",
    "train['target_url']=train['target'].apply(lambda x: find_link(x))\n",
    "df=pd.DataFrame(train.loc[train['target_url']!=\"\"]['sentiment'].value_counts()).reset_index()\n",
    "df.rename(columns={\"index\": \"sentiment\", \"sentiment\": \"url_count\"})"
   ]
  },
  {
   "cell_type": "markdown",
   "metadata": {
    "colab_type": "text",
    "id": "gd5IDvSC3dGq"
   },
   "source": [
    "\n",
    "\n",
    "*   From the url_count column above one can conclude that most of the people who belive in climate change  has tweet messages that contain most urls, by knowing such websites it can increase the insights which can help in the future marketing strategies\n",
    "\n"
   ]
  },
  {
   "cell_type": "markdown",
   "metadata": {
    "colab_type": "text",
    "id": "DfcBeocY6xil"
   },
   "source": [
    "## 4.4. Word Cloud\n",
    "\n",
    "Word Clouds from pre-processed data for News,Pro, Netral and Anti tweet messages from our train dataset and display words that occur the most."
   ]
  },
  {
   "cell_type": "code",
   "execution_count": 162,
   "metadata": {
    "colab": {},
    "colab_type": "code",
    "id": "kGp_CH4tQhnK"
   },
   "outputs": [
    {
     "data": {
      "image/png": "[encoded data removed]",
      "text/plain": [
       "<Figure size 1440x864 with 4 Axes>"
      ]
     },
     "metadata": {},
     "output_type": "display_data"
    }
   ],
   "source": [
    "#Plotting word clouds\n",
    "news = train[train['sentiment'] == 2]['message']\n",
    "pro = train[train['sentiment'] == 1]['message']\n",
    "neutral =train[train['sentiment'] == 0]['message']\n",
    "Anti = train[train['sentiment'] ==-1]['message']\n",
    "\n",
    "\n",
    "news = [word for line in news for word in line.split()]\n",
    "pro = [word for line in pro for word in line.split()]\n",
    "neutral = [word for line in neutral for word in line.split()]\n",
    "Anti= [word for line in Anti for word in line.split()]\n",
    "\n",
    "news = WordCloud(\n",
    "    background_color='white',\n",
    "    max_words=50,\n",
    "    max_font_size=100,\n",
    "    scale=5,\n",
    "    random_state=1,\n",
    "    collocations=False,\n",
    "    normalize_plurals=False\n",
    ").generate(' '.join(news))\n",
    "\n",
    "pro = WordCloud(\n",
    "    background_color='white',\n",
    "    max_words=50,\n",
    "    max_font_size=100,\n",
    "    scale=5,\n",
    "    random_state=1,\n",
    "    collocations=False,\n",
    "    normalize_plurals=False\n",
    ").generate(' '.join(pro))\n",
    "\n",
    "\n",
    "\n",
    "neutral = WordCloud(\n",
    "    background_color='white',\n",
    "    max_words=50,\n",
    "    max_font_size=100,\n",
    "    scale=5,\n",
    "    random_state=1,\n",
    "    collocations=False,\n",
    "    normalize_plurals=False\n",
    ").generate(' '.join(neutral))\n",
    "\n",
    "\n",
    "Anti = WordCloud(\n",
    "    background_color='white',\n",
    "    max_words=50,\n",
    "    max_font_size=100,\n",
    "    scale=5,\n",
    "    random_state=1,\n",
    "    collocations=False,\n",
    "    normalize_plurals=False\n",
    ").generate(' '.join(Anti))\n",
    "\n",
    "\n",
    "fig, axs = plt.subplots(2, 2, figsize = (20, 12))\n",
    "# fig.suptitle('Clouds of polar words', fontsize = 30)\n",
    "fig.tight_layout(pad = 0)\n",
    "\n",
    "axs[0, 0].imshow(news)\n",
    "axs[0, 0].set_title('Words from news tweets', fontsize = 20)\n",
    "axs[0, 0].axis('off')\n",
    "# axs[0, 0].tight_layout(pad = 1)\n",
    "\n",
    "axs[0, 1].imshow(pro)\n",
    "axs[0, 1].set_title('Words from pro tweets', fontsize = 20)\n",
    "axs[0, 1].axis('off')\n",
    "# axs[0, 1].tight_layout(pad = 1)\n",
    "\n",
    "\n",
    "# axs[1, 0].tight_layout(pad = 1)\n",
    "axs[1, 0].imshow(Anti)\n",
    "axs[1, 0].set_title('Words from anti tweets', fontsize = 20)\n",
    "axs[1, 0].axis('off')\n",
    "\n",
    "axs[1, 1].imshow(neutral)\n",
    "axs[1, 1].set_title('Words from neutral tweets', fontsize = 20)\n",
    "axs[1, 1].axis('off')\n",
    "\n",
    "# axs[1, 0].tight_layout(pad = 1)\n",
    "plt.savefig('joint_cloud.png')"
   ]
  },
  {
   "cell_type": "markdown",
   "metadata": {
    "colab_type": "text",
    "id": "Z4_KfhpQkg39"
   },
   "source": [
    "* The Climate Change words seems to be the most frequently used word in all the tweet classes, this implies that both classes are tweeting about the Climate Change since is the main topic.\n",
    "\n",
    "* From both the anti and pro class the words such as President Donald Trump appears the most, From BBC News which was issued from 23 January of 2020 The president mentioned that climate change is \"mythical\", \"nonexistent\", or \"an expensive hoax\" which shows that he does not belive in Climate change and thats why his name is mentioned in the anti class.\n",
    "\n",
    "\n",
    "* Donald Trump also mentioned that the concept of global warming was created by and for the Chinese in order to make U.S. manufacturing non-competitive this is one of the reason the word chinese is also mentioned on the anti class.\n",
    "\n",
    "\n"
   ]
  },
  {
   "cell_type": "markdown",
   "metadata": {
    "colab_type": "text",
    "id": "Uzh7rqug6Riv"
   },
   "source": [
    "*   Below is some of the President Donald Trump tweets, which shows some of the key words that apperas in the word cloud\n"
   ]
  },
  {
   "cell_type": "markdown",
   "metadata": {
    "colab_type": "text",
    "id": "7Kk49hTU6TSr"
   },
   "source": [
    "<img src=\"https://ichef.bbci.co.uk/news/208/cpsprodpb/F4D0/production/_110627626_trump_climate_quotesv7_976-nc.png\" width=90%>"
   ]
  },
  {
   "cell_type": "markdown",
   "metadata": {
    "colab_type": "text",
    "id": "Nlg82m-J6mmc"
   },
   "source": [
    "## 4.5 Word frequency analyses"
   ]
  },
  {
   "cell_type": "code",
   "execution_count": 183,
   "metadata": {
    "colab": {},
    "colab_type": "code",
    "id": "429NEoYL6rrz"
   },
   "outputs": [
    {
     "data": {
      "image/png": "[encoded data removed]",
      "text/plain": [
       "<Figure size 648x648 with 1 Axes>"
      ]
     },
     "metadata": {},
     "output_type": "display_data"
    }
   ],
   "source": [
    "word_list = [word for line in train['message']  for word in line.split()]\n",
    "sns.set(style=\"darkgrid\")\n",
    "counts = Counter(word_list).most_common(20)\n",
    "counts_df = pd.DataFrame(counts)\n",
    "counts_df\n",
    "counts_df.columns = ['word', 'frequency']\n",
    "\n",
    "fig, ax = plt.subplots(figsize = (9, 9))\n",
    "ax = sns.barplot(y=\"word\", x='frequency', ax = ax, data=counts_df, palette=\"hls\")\n",
    "plt.savefig('wordcount_bar.png')"
   ]
  },
  {
   "cell_type": "markdown",
   "metadata": {
    "colab_type": "text",
    "id": "x0I4qHTQ6xJS"
   },
   "source": [
    "*   The above visual shows the frequency of the most used words as it was mentioned above from the word cloud Climate Change is mostly used \n",
    "*   The words are used less frequently are EPA(Environmental Protection Agency),people and fight"
   ]
  },
  {
   "cell_type": "markdown",
   "metadata": {},
   "source": [
    "//////////////////////////////////////////////////////////////////////////////////////////////////////////////////////////////////////////////////////////////////////////////////////////////////////////////////////////////////////////////////////////////"
   ]
  },
  {
   "cell_type": "markdown",
   "metadata": {
    "colab_type": "text",
    "id": "lnHOZp1Z1G2w"
   },
   "source": [
    "# 5. Data Preprocessing"
   ]
  },
  {
   "cell_type": "markdown",
   "metadata": {
    "colab_type": "text",
    "id": "4uPZzILPKtHf"
   },
   "source": [
    " Data preprocessing is a step where we transforms text into a more digestible form so that machine learning algorithms can perform better.The following steps were performed for both the train and the test dataset.\n",
    "* Checking for nuls: Checking for any nulls in the datasets\n",
    "* Checking for blanks strings: Checking for any blanks strings in the datasets\n",
    "* Replacing URLs: Links starting with \"http\" or \"https\" or \"www\" are replaced by \"URL\".\n",
    "* Lower Casing: Each text is converted to lowercase.\n",
    "* Removing Stopwords: Stopwords are the English words which does not add much meaning to a sentence. They can safely be ignored without sacrificing the meaning of the sentence.\n",
    "* Lemmatizing: Lemmatization is the process of converting a word to its base form. (e.g: “Great” to “Good”)\n",
    "\n",
    "\n",
    "\n"
   ]
  },
  {
   "cell_type": "markdown",
   "metadata": {
    "colab_type": "text",
    "id": "OR404W1MOKK8"
   },
   "source": [
    "## 5.1 Checking for nulls in the dataframes"
   ]
  },
  {
   "cell_type": "code",
   "execution_count": 164,
   "metadata": {
    "colab": {},
    "colab_type": "code",
    "id": "q2uRwPwp1G2b"
   },
   "outputs": [
    {
     "data": {
      "text/plain": [
       "sentiment       0\n",
       "message         0\n",
       "tweetid         0\n",
       "token_length    0\n",
       "target          0\n",
       "target_url      0\n",
       "dtype: int64"
      ]
     },
     "execution_count": 164,
     "metadata": {},
     "output_type": "execute_result"
    }
   ],
   "source": [
    "# Checking Nulls in the train dataframe\n",
    "train.isnull().sum()"
   ]
  },
  {
   "cell_type": "code",
   "execution_count": 165,
   "metadata": {
    "colab": {},
    "colab_type": "code",
    "id": "vyx3D0j7Omhg"
   },
   "outputs": [
    {
     "data": {
      "text/plain": [
       "message    0\n",
       "tweetid    0\n",
       "dtype: int64"
      ]
     },
     "execution_count": 165,
     "metadata": {},
     "output_type": "execute_result"
    }
   ],
   "source": [
    "# Checking Nulls in the test dataframe\n",
    "test.isnull().sum()"
   ]
  },
  {
   "cell_type": "markdown",
   "metadata": {
    "colab_type": "text",
    "id": "ty1nLLC6P0xA"
   },
   "source": [
    "## 5.2 Checking for blanks in the dataframes"
   ]
  },
  {
   "cell_type": "code",
   "execution_count": 166,
   "metadata": {
    "colab": {},
    "colab_type": "code",
    "id": "aj28gA2pQhxR"
   },
   "outputs": [
    {
     "name": "stdout",
     "output_type": "stream",
     "text": [
      "0 blanks:  []\n"
     ]
    }
   ],
   "source": [
    "#Checking for blanks in the train dataframe\n",
    "blanks = []  # start with an empty list\n",
    "for i,mes,twe in test.itertuples():  # iterate over the DataFrame\n",
    "    if type(mes)==str:            # avoid NaN values\n",
    "        if mes.isspace():         # test 'review' for whitespace\n",
    "            blanks.append(i)     # add matching index numbers to the list\n",
    "        \n",
    "print(len(blanks), 'blanks: ', blanks)"
   ]
  },
  {
   "cell_type": "markdown",
   "metadata": {
    "colab_type": "text",
    "id": "ac59RLYbQ6sW"
   },
   "source": [
    "## 5.3 Replacing URL"
   ]
  },
  {
   "cell_type": "code",
   "execution_count": 167,
   "metadata": {
    "colab": {},
    "colab_type": "code",
    "id": "Mvi3va3qREOj"
   },
   "outputs": [],
   "source": [
    "pattern_url = r'http[s]?://(?:[A-Za-z]|[0-9]|[$-_@.&+]|[!*\\(\\),]|(?:%[0-9A-Fa-f][0-9A-Fa-f]))+'\n",
    "subs_url = r'url-web'\n",
    "train['message'] = train['message'] .replace(to_replace = pattern_url, value = subs_url, regex = True)\n",
    "test['message'] = test['message'] .replace(to_replace = pattern_url, value = subs_url, regex = True)"
   ]
  },
  {
   "cell_type": "markdown",
   "metadata": {
    "colab_type": "text",
    "id": "ig5JzSPYRoN0"
   },
   "source": [
    "## 5.4 Removing stopwords, lowering the words as well as lemmatizing  for both the train and the test dataframe"
   ]
  },
  {
   "cell_type": "code",
   "execution_count": 168,
   "metadata": {
    "colab": {
     "base_uri": "https://localhost:8080/",
     "height": 104
    },
    "colab_type": "code",
    "id": "Q6AiOMMWTCcy",
    "outputId": "6097ddec-f4a1-4534-cd66-8f6c1f9e5538"
   },
   "outputs": [
    {
     "name": "stderr",
     "output_type": "stream",
     "text": [
      "[nltk_data] Downloading package stopwords to\n",
      "[nltk_data]     C:\\Users\\siyam\\AppData\\Roaming\\nltk_data...\n",
      "[nltk_data]   Package stopwords is already up-to-date!\n",
      "[nltk_data] Downloading package wordnet to\n",
      "[nltk_data]     C:\\Users\\siyam\\AppData\\Roaming\\nltk_data...\n",
      "[nltk_data]   Package wordnet is already up-to-date!\n"
     ]
    },
    {
     "data": {
      "text/plain": [
       "True"
      ]
     },
     "execution_count": 168,
     "metadata": {},
     "output_type": "execute_result"
    }
   ],
   "source": [
    "nltk.download('stopwords')\n",
    "nltk.download('wordnet')"
   ]
  },
  {
   "cell_type": "code",
   "execution_count": 169,
   "metadata": {
    "colab": {},
    "colab_type": "code",
    "id": "orqO7DzA1G3h"
   },
   "outputs": [],
   "source": [
    "stop_words = set(stopwords.words(\"english\")) \n",
    "lemmatizer = WordNetLemmatizer()\n",
    "\n",
    "def clean_text(text):\n",
    "    text = re.sub('<[^<]+?>','', text)\n",
    "    text = re.sub(r'[^\\w\\s]','',text, re.UNICODE)\n",
    "    text = text.lower()\n",
    "    text = [lemmatizer.lemmatize(token) for token in text.split(\" \")]\n",
    "    text = [lemmatizer.lemmatize(token, \"v\") for token in text]\n",
    "    text = [word for word in text if not word in stop_words]\n",
    "    text = \" \".join(text)\n",
    "    return text\n",
    "\n",
    "train['Processed_message'] = train.message.apply(lambda x: clean_text(x))\n",
    "\n",
    "test['Processed_message'] = test.message.apply(lambda x: clean_text(x))\n"
   ]
  },
  {
   "cell_type": "code",
   "execution_count": 170,
   "metadata": {
    "colab": {},
    "colab_type": "code",
    "id": "QkOs-vyNTXkq"
   },
   "outputs": [
    {
     "data": {
      "text/html": [
       "<div>\n",
       "<style scoped>\n",
       "    .dataframe tbody tr th:only-of-type {\n",
       "        vertical-align: middle;\n",
       "    }\n",
       "\n",
       "    .dataframe tbody tr th {\n",
       "        vertical-align: top;\n",
       "    }\n",
       "\n",
       "    .dataframe thead th {\n",
       "        text-align: right;\n",
       "    }\n",
       "</style>\n",
       "<table border=\"1\" class=\"dataframe\">\n",
       "  <thead>\n",
       "    <tr style=\"text-align: right;\">\n",
       "      <th></th>\n",
       "      <th>sentiment</th>\n",
       "      <th>message</th>\n",
       "      <th>tweetid</th>\n",
       "      <th>token_length</th>\n",
       "      <th>target</th>\n",
       "      <th>target_url</th>\n",
       "      <th>Processed_message</th>\n",
       "    </tr>\n",
       "  </thead>\n",
       "  <tbody>\n",
       "    <tr>\n",
       "      <th>0</th>\n",
       "      <td>1</td>\n",
       "      <td>PolySciMajor EPA chief doesn't think carbon di...</td>\n",
       "      <td>625221</td>\n",
       "      <td>19</td>\n",
       "      <td>polyscimajor epa chief doesn't think carbon di...</td>\n",
       "      <td>https://t.co/yelvcefxkc</td>\n",
       "      <td>polyscimajor epa chief doesnt think carbon dio...</td>\n",
       "    </tr>\n",
       "    <tr>\n",
       "      <th>1</th>\n",
       "      <td>1</td>\n",
       "      <td>It's not like we lack evidence of anthropogeni...</td>\n",
       "      <td>126103</td>\n",
       "      <td>10</td>\n",
       "      <td>it's not like we lack evidence of anthropogeni...</td>\n",
       "      <td></td>\n",
       "      <td>like lack evidence anthropogenic global warm</td>\n",
       "    </tr>\n",
       "    <tr>\n",
       "      <th>2</th>\n",
       "      <td>2</td>\n",
       "      <td>RT @RawStory: Researchers say we have three ye...</td>\n",
       "      <td>698562</td>\n",
       "      <td>19</td>\n",
       "      <td>rt @rawstory: researchers say we have three ye...</td>\n",
       "      <td>https://t.co/wdt0kdur2fhttps://t.co/z0anpt</td>\n",
       "      <td>rt rawstory researcher say three year act clim...</td>\n",
       "    </tr>\n",
       "    <tr>\n",
       "      <th>3</th>\n",
       "      <td>1</td>\n",
       "      <td>#TodayinMaker# WIRED : 2016 was a pivotal year...</td>\n",
       "      <td>573736</td>\n",
       "      <td>15</td>\n",
       "      <td>#todayinmaker# wired : 2016 was a pivotal year...</td>\n",
       "      <td>https://t.co/44wotxtlcd</td>\n",
       "      <td>todayinmaker wire  2016 wa pivotal year war cl...</td>\n",
       "    </tr>\n",
       "    <tr>\n",
       "      <th>4</th>\n",
       "      <td>1</td>\n",
       "      <td>RT @SoyNovioDeTodas: It's 2016, and a racist, ...</td>\n",
       "      <td>466954</td>\n",
       "      <td>18</td>\n",
       "      <td>rt @soynoviodetodas: it's 2016, and a racist, ...</td>\n",
       "      <td></td>\n",
       "      <td>rt soynoviodetodas 2016 racist sexist climate ...</td>\n",
       "    </tr>\n",
       "  </tbody>\n",
       "</table>\n",
       "</div>"
      ],
      "text/plain": [
       "   sentiment                                            message  tweetid  \\\n",
       "0          1  PolySciMajor EPA chief doesn't think carbon di...   625221   \n",
       "1          1  It's not like we lack evidence of anthropogeni...   126103   \n",
       "2          2  RT @RawStory: Researchers say we have three ye...   698562   \n",
       "3          1  #TodayinMaker# WIRED : 2016 was a pivotal year...   573736   \n",
       "4          1  RT @SoyNovioDeTodas: It's 2016, and a racist, ...   466954   \n",
       "\n",
       "   token_length                                             target  \\\n",
       "0            19  polyscimajor epa chief doesn't think carbon di...   \n",
       "1            10  it's not like we lack evidence of anthropogeni...   \n",
       "2            19  rt @rawstory: researchers say we have three ye...   \n",
       "3            15  #todayinmaker# wired : 2016 was a pivotal year...   \n",
       "4            18  rt @soynoviodetodas: it's 2016, and a racist, ...   \n",
       "\n",
       "                                   target_url  \\\n",
       "0                     https://t.co/yelvcefxkc   \n",
       "1                                               \n",
       "2  https://t.co/wdt0kdur2fhttps://t.co/z0anpt   \n",
       "3                     https://t.co/44wotxtlcd   \n",
       "4                                               \n",
       "\n",
       "                                   Processed_message  \n",
       "0  polyscimajor epa chief doesnt think carbon dio...  \n",
       "1       like lack evidence anthropogenic global warm  \n",
       "2  rt rawstory researcher say three year act clim...  \n",
       "3  todayinmaker wire  2016 wa pivotal year war cl...  \n",
       "4  rt soynoviodetodas 2016 racist sexist climate ...  "
      ]
     },
     "execution_count": 170,
     "metadata": {},
     "output_type": "execute_result"
    }
   ],
   "source": [
    "# Checking the preprossed train dataframe \n",
    "train.head()\n"
   ]
  },
  {
   "cell_type": "code",
   "execution_count": 171,
   "metadata": {
    "colab": {},
    "colab_type": "code",
    "id": "R_qXYBBITniy"
   },
   "outputs": [
    {
     "data": {
      "text/html": [
       "<div>\n",
       "<style scoped>\n",
       "    .dataframe tbody tr th:only-of-type {\n",
       "        vertical-align: middle;\n",
       "    }\n",
       "\n",
       "    .dataframe tbody tr th {\n",
       "        vertical-align: top;\n",
       "    }\n",
       "\n",
       "    .dataframe thead th {\n",
       "        text-align: right;\n",
       "    }\n",
       "</style>\n",
       "<table border=\"1\" class=\"dataframe\">\n",
       "  <thead>\n",
       "    <tr style=\"text-align: right;\">\n",
       "      <th></th>\n",
       "      <th>message</th>\n",
       "      <th>tweetid</th>\n",
       "      <th>Processed_message</th>\n",
       "    </tr>\n",
       "  </thead>\n",
       "  <tbody>\n",
       "    <tr>\n",
       "      <th>0</th>\n",
       "      <td>Europe will now be looking to China to make su...</td>\n",
       "      <td>169760</td>\n",
       "      <td>europe look china make sure alone fight climat...</td>\n",
       "    </tr>\n",
       "    <tr>\n",
       "      <th>1</th>\n",
       "      <td>Combine this with the polling of staffers re c...</td>\n",
       "      <td>35326</td>\n",
       "      <td>combine poll staffer climate change woman righ...</td>\n",
       "    </tr>\n",
       "    <tr>\n",
       "      <th>2</th>\n",
       "      <td>The scary, unimpeachable evidence that climate...</td>\n",
       "      <td>224985</td>\n",
       "      <td>scary unimpeachable evidence climate change al...</td>\n",
       "    </tr>\n",
       "    <tr>\n",
       "      <th>3</th>\n",
       "      <td>@Karoli @morgfair @OsborneInk @dailykos \\nPuti...</td>\n",
       "      <td>476263</td>\n",
       "      <td>karoli morgfair osborneink dailykos \\nputin ge...</td>\n",
       "    </tr>\n",
       "    <tr>\n",
       "      <th>4</th>\n",
       "      <td>RT @FakeWillMoore: 'Female orgasms cause globa...</td>\n",
       "      <td>872928</td>\n",
       "      <td>rt fakewillmoore female orgasm cause global wa...</td>\n",
       "    </tr>\n",
       "  </tbody>\n",
       "</table>\n",
       "</div>"
      ],
      "text/plain": [
       "                                             message  tweetid  \\\n",
       "0  Europe will now be looking to China to make su...   169760   \n",
       "1  Combine this with the polling of staffers re c...    35326   \n",
       "2  The scary, unimpeachable evidence that climate...   224985   \n",
       "3  @Karoli @morgfair @OsborneInk @dailykos \\nPuti...   476263   \n",
       "4  RT @FakeWillMoore: 'Female orgasms cause globa...   872928   \n",
       "\n",
       "                                   Processed_message  \n",
       "0  europe look china make sure alone fight climat...  \n",
       "1  combine poll staffer climate change woman righ...  \n",
       "2  scary unimpeachable evidence climate change al...  \n",
       "3  karoli morgfair osborneink dailykos \\nputin ge...  \n",
       "4  rt fakewillmoore female orgasm cause global wa...  "
      ]
     },
     "execution_count": 171,
     "metadata": {},
     "output_type": "execute_result"
    }
   ],
   "source": [
    "# Checking the preprossed test dataframe \n",
    "test.head()"
   ]
  },
  {
   "cell_type": "markdown",
   "metadata": {},
   "source": [
    "//////////////////////////////////////////////////////////////////////////////////////////////////////////////////////////////////////////////////////////////////////////////////////////////////////////////////////////////////////////////////////////////"
   ]
  },
  {
   "cell_type": "markdown",
   "metadata": {},
   "source": [
    "# 6. Modelling"
   ]
  },
  {
   "cell_type": "markdown",
   "metadata": {
    "colab_type": "text",
    "id": "_OCfvkCZjQ-l"
   },
   "source": [
    "Now we employ machine-learning technique and diverse features to construct a classifier that can identify text/messages that expresses sentiment."
   ]
  },
  {
   "cell_type": "markdown",
   "metadata": {
    "colab_type": "text",
    "id": "QOEmUE65jQ-u"
   },
   "source": [
    "## 6.1. Defining variables"
   ]
  },
  {
   "cell_type": "code",
   "execution_count": 172,
   "metadata": {
    "colab": {},
    "colab_type": "code",
    "id": "3zG0ipxt1G5Q"
   },
   "outputs": [],
   "source": [
    "#Independent feature of the train dataframe\n",
    "X=train['Processed_message']\n",
    "#Dependent feature of the train dataframe\n",
    "y=train['sentiment'] \n",
    "#Independent feature of test dataframe\n",
    "x_unseen=test['Processed_message'] #test independent feature"
   ]
  },
  {
   "cell_type": "markdown",
   "metadata": {
    "colab_type": "text",
    "id": "iJmT1R0IYHmf"
   },
   "source": [
    "## 6.2. Splitting the dataset"
   ]
  },
  {
   "cell_type": "markdown",
   "metadata": {
    "colab_type": "text",
    "id": "8mOqL3qhYewu"
   },
   "source": [
    "The Preprocessed Data is divided into 2 sets of data:\n",
    "\n",
    "*   Training Data: The dataset upon which the model would be trained on. Contains 90% data. \n",
    "*   Test Data: The dataset upon which the model would be tested against. Contains 10% data.\n",
    "\n",
    "\n"
   ]
  },
  {
   "cell_type": "code",
   "execution_count": 173,
   "metadata": {
    "colab": {},
    "colab_type": "code",
    "id": "vJFuZ3gI1G5k"
   },
   "outputs": [],
   "source": [
    "#Splitting the train dataset\n",
    "X_train, X_test, y_train, y_test = train_test_split(X, y, test_size=0.1, random_state=42)"
   ]
  },
  {
   "cell_type": "markdown",
   "metadata": {
    "colab_type": "text",
    "id": "vu13WU0PZEAo"
   },
   "source": [
    "## 6.3 Model fitting\n"
   ]
  },
  {
   "cell_type": "markdown",
   "metadata": {},
   "source": [
    "### 6.3.1. Parameters  and TF-IDF Vectoriser explanation"
   ]
  },
  {
   "cell_type": "markdown",
   "metadata": {
    "colab_type": "text",
    "id": "pSXm_OV7iGLu"
   },
   "source": [
    "**TF-IDF Vectoriser**\n",
    "* TF-IDF indicates what the importance of the word is in order to understand the document or dataset.\n",
    "\n",
    "* TF-IDF Vectoriser converts a collection of raw documents to a matrix of TF-IDF features.\n",
    "\n",
    "* **ngram_range** is the range of number of words in a sequence.\n",
    "\n",
    "* **max_df** Used for removing data values that appear too frequently.\n",
    "\n",
    "* **min_df** Used for removing terms that appear too infrequently.\n",
    "\n"
   ]
  },
  {
   "cell_type": "code",
   "execution_count": 174,
   "metadata": {
    "colab": {},
    "colab_type": "code",
    "id": "Cj5mRy2o3gZX"
   },
   "outputs": [],
   "source": [
    "vectoriser = TfidfVectorizer(stop_words='english', \n",
    "                             min_df=1, \n",
    "                             max_df=0.9, \n",
    "                             ngram_range=(1, 2))"
   ]
  },
  {
   "cell_type": "code",
   "execution_count": 175,
   "metadata": {
    "colab": {
     "base_uri": "https://localhost:8080/",
     "height": 139
    },
    "colab_type": "code",
    "id": "_rRP4cYT3gZZ",
    "outputId": "055ab903-ee2d-4c6a-f81e-58f9402e8364"
   },
   "outputs": [
    {
     "data": {
      "text/plain": [
       "TfidfVectorizer(max_df=0.9, ngram_range=(1, 2), stop_words='english')"
      ]
     },
     "execution_count": 175,
     "metadata": {},
     "output_type": "execute_result"
    }
   ],
   "source": [
    "vectoriser.fit(x_unseen)"
   ]
  },
  {
   "cell_type": "code",
   "execution_count": 176,
   "metadata": {
    "colab": {
     "base_uri": "https://localhost:8080/",
     "height": 139
    },
    "colab_type": "code",
    "id": "K3_aqFEk3gZc",
    "outputId": "9d9fcf1e-e197-4146-a4de-8f00a6a20318"
   },
   "outputs": [
    {
     "data": {
      "text/plain": [
       "TfidfVectorizer(max_df=0.9, ngram_range=(1, 2), stop_words='english')"
      ]
     },
     "execution_count": 176,
     "metadata": {},
     "output_type": "execute_result"
    }
   ],
   "source": [
    "#fitting the vectoriser\n",
    "vectoriser.fit(X_train, y_train) "
   ]
  },
  {
   "cell_type": "markdown",
   "metadata": {
    "colab_type": "text",
    "id": "DWsGr9d_3gZf"
   },
   "source": [
    "* Transforming the **X_train** and **X_test dataset** into matrix of TF-IDF Features by using the TF-IDF Vectoriser. This datasets will be used to train the model and test against it."
   ]
  },
  {
   "cell_type": "code",
   "execution_count": 177,
   "metadata": {
    "colab": {},
    "colab_type": "code",
    "id": "Fo6eyJ9L3gZf"
   },
   "outputs": [],
   "source": [
    "#transformation of the datasets\n",
    "X_train = vectoriser.transform(X_train)\n",
    "X_test  = vectoriser.transform(X_test)\n",
    "x_unseen = vectoriser.transform(x_unseen)"
   ]
  },
  {
   "cell_type": "markdown",
   "metadata": {
    "colab_type": "text",
    "id": "jYNBQ-IDipkG"
   },
   "source": [
    "## 6.3.2. Models Descriptions"
   ]
  },
  {
   "cell_type": "markdown",
   "metadata": {
    "colab_type": "text",
    "id": "ZIOtZHe8mSOM"
   },
   "source": [
    "We have chosen the following models to train and test our data:\n",
    "1. **Logistic Regression:**\n",
    "Logistic regression is a statistical model that in its basic form uses a logistic function to model the probability of a certain class \n",
    "\n",
    "2. **LineasrSVC:**\n",
    "Similar to SVC with parameter kernel=’linear’, but implemented in terms of liblinear rather than libsvm, so it has more flexibility in the choice of penalties and loss functions and  scale better to large numbers of samples.This class supports both dense and sparse input and the multiclass support is handled according to a one-vs-the-rest scheme.\n",
    "\n",
    "3. **Multinomial Naive Bayes:** \n",
    "Naive Bayes classifier for multinomial models. The multinomial Naive Bayes classifier is suitable for classification with discrete features (e.g., word counts for text classification). The multinomial distribution normally requires integer feature counts. However, in practice, fractional counts such as tf-idf may also work.\n",
    "\n",
    "4. **Support Vector Machine:**\n",
    "The objective of the support vector machine algorithm is to find a hyperplane in an N-dimensional space(N — the number of features) that distinctly classifies the data points.we have used the rbf kernel, which allows the SVC to fit a non-linear decision boundary. \n",
    "\n"
   ]
  },
  {
   "cell_type": "markdown",
   "metadata": {
    "colab_type": "text",
    "id": "fq5jtiHs1G6K"
   },
   "source": [
    "## 6.4. Model fitting for the unbalanced data"
   ]
  },
  {
   "cell_type": "markdown",
   "metadata": {
    "colab_type": "text",
    "id": "WCm_PNGb1G6S"
   },
   "source": [
    "### 6.4.1. Logistic Regression Model"
   ]
  },
  {
   "cell_type": "code",
   "execution_count": 178,
   "metadata": {
    "colab": {
     "base_uri": "https://localhost:8080/",
     "height": 176
    },
    "colab_type": "code",
    "id": "hfJL75LI1G6Y",
    "outputId": "b540ad8b-8b9c-4804-f3ed-bae92e700d32"
   },
   "outputs": [
    {
     "name": "stderr",
     "output_type": "stream",
     "text": [
      "C:\\Users\\siyam\\Anaconda3\\New folder\\lib\\site-packages\\sklearn\\linear_model\\_logistic.py:764: ConvergenceWarning: lbfgs failed to converge (status=1):\n",
      "STOP: TOTAL NO. of ITERATIONS REACHED LIMIT.\n",
      "\n",
      "Increase the number of iterations (max_iter) or scale the data as shown in:\n",
      "    https://scikit-learn.org/stable/modules/preprocessing.html\n",
      "Please also refer to the documentation for alternative solver options:\n",
      "    https://scikit-learn.org/stable/modules/linear_model.html#logistic-regression\n",
      "  extra_warning_msg=_LOGISTIC_SOLVER_CONVERGENCE_MSG)\n"
     ]
    }
   ],
   "source": [
    "LogisticRegression = LogisticRegression()\n",
    "##Fitting the model with train dataset\n",
    "LogisticRegression = LogisticRegression.fit(X_train, y_train)"
   ]
  },
  {
   "cell_type": "code",
   "execution_count": 179,
   "metadata": {
    "colab": {
     "base_uri": "https://localhost:8080/",
     "height": 225
    },
    "colab_type": "code",
    "id": "G_kHtSdv1y_Y",
    "outputId": "60095cbe-f978-4adf-8464-0c8f975ea6d4"
   },
   "outputs": [
    {
     "name": "stdout",
     "output_type": "stream",
     "text": [
      "              precision    recall  f1-score   support\n",
      "\n",
      "          -1       0.80      0.35      0.49       126\n",
      "           0       0.67      0.33      0.45       224\n",
      "           1       0.76      0.88      0.82       895\n",
      "           2       0.73      0.80      0.76       337\n",
      "\n",
      "    accuracy                           0.75      1582\n",
      "   macro avg       0.74      0.59      0.63      1582\n",
      "weighted avg       0.74      0.75      0.73      1582\n",
      "\n",
      "0.7458912768647282\n"
     ]
    }
   ],
   "source": [
    "# Getting predicions from the X_test\n",
    "pred = LogisticRegression.predict(X_test)\n",
    "#Pritting the classification report\n",
    "print(metrics.classification_report(y_test,pred))\n",
    "# Print the overall accuracy\n",
    "print(metrics.accuracy_score(y_test,pred))"
   ]
  },
  {
   "cell_type": "markdown",
   "metadata": {
    "colab_type": "text",
    "id": "xNRO_GMF1HA6"
   },
   "source": [
    "### 6.4.2. LinearSVC Model"
   ]
  },
  {
   "cell_type": "code",
   "execution_count": 180,
   "metadata": {
    "colab": {},
    "colab_type": "code",
    "id": "ahn4QOv-1HBM"
   },
   "outputs": [],
   "source": [
    "LinearSVC = LinearSVC()\n",
    "##Fitting the model with train dataset\n",
    "LinearSVC = LinearSVC.fit(X_train, y_train)"
   ]
  },
  {
   "cell_type": "code",
   "execution_count": 181,
   "metadata": {
    "colab": {
     "base_uri": "https://localhost:8080/",
     "height": 225
    },
    "colab_type": "code",
    "id": "vDpdBurU1HBc",
    "outputId": "2b60cdcb-a896-4e71-a082-f4079c0ab986"
   },
   "outputs": [
    {
     "name": "stdout",
     "output_type": "stream",
     "text": [
      "              precision    recall  f1-score   support\n",
      "\n",
      "          -1       0.70      0.50      0.58       126\n",
      "           0       0.66      0.38      0.48       224\n",
      "           1       0.79      0.87      0.83       895\n",
      "           2       0.75      0.83      0.79       337\n",
      "\n",
      "    accuracy                           0.76      1582\n",
      "   macro avg       0.72      0.65      0.67      1582\n",
      "weighted avg       0.75      0.76      0.75      1582\n",
      "\n",
      "0.7629582806573957\n"
     ]
    }
   ],
   "source": [
    "# Getting predicions from the X_test\n",
    "pred1 = LinearSVC.predict(X_test)\n",
    "#Printing the classification report\n",
    "print(metrics.classification_report(y_test, pred1))\n",
    "# Print the overall accuracy\n",
    "print(metrics.accuracy_score(y_test,pred1))"
   ]
  },
  {
   "cell_type": "markdown",
   "metadata": {
    "colab_type": "text",
    "id": "uEo8mEsw1HDv"
   },
   "source": [
    "### 6.4.3. Support Vector Machine Model"
   ]
  },
  {
   "cell_type": "code",
   "execution_count": 182,
   "metadata": {
    "colab": {},
    "colab_type": "code",
    "id": "mDL8MQd61HD_"
   },
   "outputs": [],
   "source": [
    "from sklearn.svm import SVC\n",
    "SVC = SVC()\n",
    "##Fitting the model with train dataset\n",
    "SVC = SVC.fit(X_train, y_train)"
   ]
  },
  {
   "cell_type": "code",
   "execution_count": 125,
   "metadata": {
    "colab": {
     "base_uri": "https://localhost:8080/",
     "height": 225
    },
    "colab_type": "code",
    "id": "mH6kW4MC1HEa",
    "outputId": "cf199950-528a-4408-f38c-753c7e2d117f"
   },
   "outputs": [
    {
     "name": "stdout",
     "output_type": "stream",
     "text": [
      "              precision    recall  f1-score   support\n",
      "\n",
      "          -1       0.89      0.32      0.47       126\n",
      "           0       0.79      0.29      0.43       224\n",
      "           1       0.73      0.91      0.81       895\n",
      "           2       0.76      0.78      0.77       337\n",
      "\n",
      "    accuracy                           0.75      1582\n",
      "   macro avg       0.79      0.58      0.62      1582\n",
      "weighted avg       0.76      0.75      0.72      1582\n",
      "\n",
      "0.7484197218710493\n"
     ]
    }
   ],
   "source": [
    "# Getting predictions from the X_test\n",
    "pred2 = SVC.predict(X_test)\n",
    "#Pritting the classification report\n",
    "print(metrics.classification_report(y_test,pred2))\n",
    "# Print the overall accuracy\n",
    "print(metrics.accuracy_score(y_test,pred2))"
   ]
  },
  {
   "cell_type": "markdown",
   "metadata": {
    "colab_type": "text",
    "id": "aNwBYBfd1HFE"
   },
   "source": [
    "### 6.4.4. Multinominal Naive Bayes Model"
   ]
  },
  {
   "cell_type": "code",
   "execution_count": null,
   "metadata": {},
   "outputs": [],
   "source": [
    "MultinomialNB = MultinomialNB()\n",
    "##Fitting the model with train dataset\n",
    "MultinomialNB  = MultinomialNB .fit(X_train, y_train)"
   ]
  },
  {
   "cell_type": "code",
   "execution_count": 127,
   "metadata": {
    "colab": {
     "base_uri": "https://localhost:8080/",
     "height": 225
    },
    "colab_type": "code",
    "id": "PwF5eVxh1HFV",
    "outputId": "a5748cdc-f0f8-45fe-91d6-bb6c44092ebb"
   },
   "outputs": [
    {
     "name": "stdout",
     "output_type": "stream",
     "text": [
      "              precision    recall  f1-score   support\n",
      "\n",
      "          -1       1.00      0.04      0.08       126\n",
      "           0       1.00      0.03      0.06       224\n",
      "           1       0.63      0.99      0.77       895\n",
      "           2       0.92      0.45      0.60       337\n",
      "\n",
      "    accuracy                           0.66      1582\n",
      "   macro avg       0.89      0.38      0.38      1582\n",
      "weighted avg       0.77      0.66      0.58      1582\n",
      "\n",
      "0.661188369152971\n"
     ]
    }
   ],
   "source": [
    "# Getting predictions from the X_test\n",
    "pred3 = MultinomialNB.predict(X_test)\n",
    "#Priting the classification report\n",
    "print(metrics.classification_report(y_test,pred3))\n",
    "# Print the overall accuracy\n",
    "print(metrics.accuracy_score(y_test,pred3))"
   ]
  },
  {
   "cell_type": "markdown",
   "metadata": {
    "colab_type": "text",
    "id": "7WB7jvdI3gaJ"
   },
   "source": [
    "## 6.5. Resampling(Upscalling the minority class)"
   ]
  },
  {
   "cell_type": "markdown",
   "metadata": {
    "colab_type": "text",
    "id": "osTJZupV3gaK"
   },
   "source": [
    "\n",
    "*   To solve the imbalance of classes as it was shown in section 4.2 resampling is used to  modifying the number of observations in each class .\n",
    "*   We will use the upscalling method to upscale the minority class which is -1 (Anti).\n",
    "\n",
    "*   Upcsaling method is a process of talking repeated random samples from the minority class until we have as many observations as the majority class.This grows the size of the minority class by effectively duplicating observations at random\n",
    "\n"
   ]
  },
  {
   "cell_type": "markdown",
   "metadata": {
    "colab_type": "text",
    "id": "sU60eBge3gaK"
   },
   "source": [
    "**SMOTE (Synthetic Minority Over-sampling Technique)**\n",
    "* SMOTE is an over-sampling method. It creates synthetic samples of the minority class. We use imblearn python package to over-sample the minority classes ."
   ]
  },
  {
   "cell_type": "code",
   "execution_count": 128,
   "metadata": {
    "colab": {
     "base_uri": "https://localhost:8080/",
     "height": 35
    },
    "colab_type": "code",
    "id": "8V0ilvgX3gaL",
    "outputId": "4f4313c0-3acc-453e-fd57-eee4a3c11b41"
   },
   "outputs": [
    {
     "data": {
      "text/plain": [
       "((14237, 96248), (14237,))"
      ]
     },
     "execution_count": 128,
     "metadata": {},
     "output_type": "execute_result"
    }
   ],
   "source": [
    "X_train.shape, y_train.shape"
   ]
  },
  {
   "cell_type": "code",
   "execution_count": 129,
   "metadata": {
    "colab": {
     "base_uri": "https://localhost:8080/",
     "height": 89
    },
    "colab_type": "code",
    "id": "pMNt6OtN3gaQ",
    "outputId": "85160e04-b8f7-4b52-ae88-f8b9db9c770e"
   },
   "outputs": [
    {
     "name": "stdout",
     "output_type": "stream",
     "text": [
      "(20702, 96248) (20702,)\n"
     ]
    },
    {
     "name": "stderr",
     "output_type": "stream",
     "text": [
      "C:\\Users\\siyam\\Anaconda3\\New folder\\lib\\site-packages\\imblearn\\utils\\_validation.py:638: FutureWarning: Pass sampling_strategy=minority as keyword args. From version 0.9 passing these as positional arguments will result in an error\n",
      "  FutureWarning)\n"
     ]
    }
   ],
   "source": [
    "smote = SMOTE('minority')\n",
    "\n",
    "X_sm, y_sm = smote.fit_sample(X_train, y_train)\n",
    "print(X_sm.shape, y_sm.shape)"
   ]
  },
  {
   "cell_type": "markdown",
   "metadata": {
    "colab_type": "text",
    "id": "0wuhpXR-3gaS"
   },
   "source": [
    "///////////////////////////////////////////////////////////////////////////////////////////////////////////////////////////////////////////////////////////////////////////////////////////////////////////////////////////////////////////////////"
   ]
  },
  {
   "cell_type": "markdown",
   "metadata": {
    "colab_type": "text",
    "id": "7yhhkPqZ3gaT"
   },
   "source": [
    "* Here, we simply make random copies of observations in the minority class until we match the size of the majority class. Using this approach means we end up with more data."
   ]
  },
  {
   "cell_type": "code",
   "execution_count": 130,
   "metadata": {
    "colab": {
     "base_uri": "https://localhost:8080/",
     "height": 104
    },
    "colab_type": "code",
    "id": "bp4o_tAC3gaU",
    "outputId": "50ea680e-8439-4cee-e3d9-456f55e8a1ca"
   },
   "outputs": [
    {
     "data": {
      "text/plain": [
       " 1    8530\n",
       "-1    4000\n",
       " 2    3640\n",
       " 0    2353\n",
       "Name: sentiment, dtype: int64"
      ]
     },
     "execution_count": 130,
     "metadata": {},
     "output_type": "execute_result"
    }
   ],
   "source": [
    "# Separate minority and majority classes\n",
    "df_majority= train[(train.sentiment==1) |\n",
    "                  (train.sentiment ==2) |\n",
    "                   (train.sentiment==0)]\n",
    "df_minority = train[train.sentiment == -1]\n",
    "                    \n",
    "\n",
    "#Upscalling the minority class\n",
    "df_minority_upsampled= resample(df_minority,replace= True,\n",
    "                            n_samples= 4000, random_state =42) #sample with replacement\n",
    "\n",
    "#Combine majority class with upscalled minority class\n",
    "df_upsampled = pd.concat ([df_majority,\n",
    "                          df_minority_upsampled])\n",
    "#Display new class counts\n",
    "df_upsampled.sentiment.value_counts()"
   ]
  },
  {
   "cell_type": "code",
   "execution_count": 131,
   "metadata": {
    "colab": {
     "base_uri": "https://localhost:8080/",
     "height": 411
    },
    "colab_type": "code",
    "id": "Q3QfCNNs3gaX",
    "outputId": "0fe2855e-fe82-4f73-b0d7-b425181a2a93"
   },
   "outputs": [
    {
     "data": {
      "text/plain": [
       "Text(0.5, 1.0, 'Tweet message distribution over the sentiments')"
      ]
     },
     "execution_count": 131,
     "metadata": {},
     "output_type": "execute_result"
    },
    {
     "data": {
      "image/png": "[encoded data removed]",
      "text/plain": [
       "<Figure size 864x432 with 1 Axes>"
      ]
     },
     "metadata": {},
     "output_type": "display_data"
    }
   ],
   "source": [
    "# message  Distribution ove the classes\n",
    "dist_class = df_upsampled['sentiment'].value_counts()\n",
    "labels = ['1', '2','0','-1']\n",
    "\n",
    "fig, (ax1 )= plt.subplots(1, figsize=(12,6))\n",
    "\n",
    "sns.barplot(x=dist_class.index, y=dist_class, ax=ax1).set_title(\"Tweet message distribution over the sentiments\")"
   ]
  },
  {
   "cell_type": "markdown",
   "metadata": {
    "colab_type": "text",
    "id": "5GIT2kU23gaZ"
   },
   "source": [
    "## 6.6. Fitting for the balanced data"
   ]
  },
  {
   "cell_type": "markdown",
   "metadata": {
    "colab_type": "text",
    "id": "9ne36zD73gaZ"
   },
   "source": [
    "* The below models are fitted using the data up-scaled using the SMOTE method\n"
   ]
  },
  {
   "cell_type": "markdown",
   "metadata": {
    "colab_type": "text",
    "id": "FhneTlTC3gaZ"
   },
   "source": [
    "### 6.6.1 Logistic Regression Model"
   ]
  },
  {
   "cell_type": "code",
   "execution_count": 134,
   "metadata": {
    "colab": {
     "base_uri": "https://localhost:8080/",
     "height": 218
    },
    "colab_type": "code",
    "id": "PPrze-eJ3gaa",
    "outputId": "9d437f2d-4c14-4565-bcb9-653829604059"
   },
   "outputs": [
    {
     "name": "stderr",
     "output_type": "stream",
     "text": [
      "C:\\Users\\siyam\\Anaconda3\\New folder\\lib\\site-packages\\sklearn\\linear_model\\_logistic.py:764: ConvergenceWarning: lbfgs failed to converge (status=1):\n",
      "STOP: TOTAL NO. of ITERATIONS REACHED LIMIT.\n",
      "\n",
      "Increase the number of iterations (max_iter) or scale the data as shown in:\n",
      "    https://scikit-learn.org/stable/modules/preprocessing.html\n",
      "Please also refer to the documentation for alternative solver options:\n",
      "    https://scikit-learn.org/stable/modules/linear_model.html#logistic-regression\n",
      "  extra_warning_msg=_LOGISTIC_SOLVER_CONVERGENCE_MSG)\n"
     ]
    }
   ],
   "source": [
    "from sklearn.linear_model import LogisticRegression\n",
    "LogisticRegression = LogisticRegression()\n",
    "##Fitting the model with train dataset\n",
    "LogisticRegression_up = LogisticRegression.fit(X_sm, y_sm)"
   ]
  },
  {
   "cell_type": "code",
   "execution_count": 135,
   "metadata": {
    "colab": {
     "base_uri": "https://localhost:8080/",
     "height": 235
    },
    "colab_type": "code",
    "id": "ZyQXa9mF3gab",
    "outputId": "12ddcf89-eb9c-4bd9-b356-17912a0d1c58"
   },
   "outputs": [
    {
     "name": "stdout",
     "output_type": "stream",
     "text": [
      "              precision    recall  f1-score   support\n",
      "\n",
      "          -1       0.48      0.71      0.57       126\n",
      "           0       0.83      0.23      0.36       224\n",
      "           1       0.78      0.87      0.82       895\n",
      "           2       0.77      0.77      0.77       337\n",
      "\n",
      "    accuracy                           0.74      1582\n",
      "   macro avg       0.71      0.65      0.63      1582\n",
      "weighted avg       0.76      0.74      0.73      1582\n",
      "\n",
      "0.7446270543615676\n"
     ]
    }
   ],
   "source": [
    "# Getting predicions from the X_test\n",
    "predict = LogisticRegression_up.predict(X_test)\n",
    "#Printing the classification report\n",
    "print(metrics.classification_report(y_test, predict))\n",
    "# Print the overall accuracy\n",
    "print(metrics.accuracy_score(y_test,predict))"
   ]
  },
  {
   "cell_type": "markdown",
   "metadata": {
    "colab_type": "text",
    "id": "Yb4rLFZ33gae"
   },
   "source": [
    "### 6.6.2 LinearSVC Model"
   ]
  },
  {
   "cell_type": "code",
   "execution_count": 140,
   "metadata": {
    "colab": {
     "base_uri": "https://localhost:8080/",
     "height": 201
    },
    "colab_type": "code",
    "id": "OiIqvudC3gae",
    "outputId": "8b705941-0897-4548-a8c7-37c1496a66b0"
   },
   "outputs": [],
   "source": [
    "from sklearn.svm import LinearSVC\n",
    "LinearSVC = LinearSVC()\n",
    "##Fitting the model with train dataset\n",
    "LinearSVC_up = LinearSVC.fit(X_sm, y_sm)"
   ]
  },
  {
   "cell_type": "code",
   "execution_count": 141,
   "metadata": {
    "colab": {},
    "colab_type": "code",
    "id": "-QQwqbvw3gah"
   },
   "outputs": [
    {
     "name": "stdout",
     "output_type": "stream",
     "text": [
      "              precision    recall  f1-score   support\n",
      "\n",
      "          -1       0.58      0.59      0.58       126\n",
      "           0       0.70      0.35      0.47       224\n",
      "           1       0.79      0.87      0.83       895\n",
      "           2       0.76      0.80      0.78       337\n",
      "\n",
      "    accuracy                           0.76      1582\n",
      "   macro avg       0.71      0.65      0.67      1582\n",
      "weighted avg       0.75      0.76      0.75      1582\n",
      "\n",
      "0.7597977243994943\n"
     ]
    }
   ],
   "source": [
    "# Getting predicions from the X_test\n",
    "predict1 = LinearSVC_up.predict(X_test)\n",
    "#Printing the classification report\n",
    "print(metrics.classification_report(y_test, predict1))\n",
    "# Print the overall accuracy\n",
    "print(metrics.accuracy_score(y_test,predict1))"
   ]
  },
  {
   "cell_type": "markdown",
   "metadata": {
    "colab_type": "text",
    "id": "erMa0sn83gai"
   },
   "source": [
    "### 6.6.3. Support Vector Machine Model"
   ]
  },
  {
   "cell_type": "code",
   "execution_count": 143,
   "metadata": {
    "colab": {},
    "colab_type": "code",
    "id": "smgUbLLo3gaj"
   },
   "outputs": [],
   "source": [
    "from sklearn.svm import SVC\n",
    "SVC = SVC()\n",
    "##Fitting the model with train dataset\n",
    "SVC_up = SVC.fit(X_sm, y_sm)"
   ]
  },
  {
   "cell_type": "code",
   "execution_count": 144,
   "metadata": {
    "colab": {},
    "colab_type": "code",
    "id": "3B9BvQ3C3gan"
   },
   "outputs": [
    {
     "name": "stdout",
     "output_type": "stream",
     "text": [
      "              precision    recall  f1-score   support\n",
      "\n",
      "          -1       0.82      0.37      0.51       126\n",
      "           0       0.79      0.29      0.42       224\n",
      "           1       0.74      0.91      0.81       895\n",
      "           2       0.77      0.77      0.77       337\n",
      "\n",
      "    accuracy                           0.75      1582\n",
      "   macro avg       0.78      0.59      0.63      1582\n",
      "weighted avg       0.76      0.75      0.73      1582\n",
      "\n",
      "0.7490518331226296\n"
     ]
    }
   ],
   "source": [
    "# Getting predictions from the X_test\n",
    "predict2 = SVC_up.predict(X_test)\n",
    "#Pritting the classification report\n",
    "print(metrics.classification_report(y_test,predict2))\n",
    "# Print the overall accuracy\n",
    "print(metrics.accuracy_score(y_test,predict2))"
   ]
  },
  {
   "cell_type": "markdown",
   "metadata": {
    "colab_type": "text",
    "id": "uW01vjAD3gar"
   },
   "source": [
    "### 6.6.4. Multinominal Naive Bayes Model"
   ]
  },
  {
   "cell_type": "code",
   "execution_count": null,
   "metadata": {
    "colab": {},
    "colab_type": "code",
    "id": "XztTF4AA3gar"
   },
   "outputs": [],
   "source": [
    "MultinomialNB = MultinomialNB()\n",
    "##Fitting the model with train dataset\n",
    "MultinomialNB_up = MultinomialNB.fit(X_sm, y_sm)"
   ]
  },
  {
   "cell_type": "code",
   "execution_count": null,
   "metadata": {
    "colab": {},
    "colab_type": "code",
    "id": "bENk-L0o3gav"
   },
   "outputs": [],
   "source": [
    "# Getting predictions from the X_test\n",
    "predict3 = MultinomialNB_up.predict(X_test)\n",
    "#Priting the classification report\n",
    "print(metrics.classification_report(y_test,predict3))\n",
    "# Print the overall accuracy\n",
    "print(metrics.accuracy_score(y_test,predict3))"
   ]
  },
  {
   "cell_type": "markdown",
   "metadata": {},
   "source": [
    "/////////////////////////////////////////////////////////////////////////////////////////////////////////////////////////////////////////////////////////////////////////////////////////////////////////////////////////////////////////////////////////////"
   ]
  },
  {
   "cell_type": "markdown",
   "metadata": {},
   "source": [
    "# Evaluation"
   ]
  },
  {
   "cell_type": "markdown",
   "metadata": {},
   "source": [
    "## 7.1 Evaluation metrics"
   ]
  },
  {
   "cell_type": "markdown",
   "metadata": {
    "colab_type": "text",
    "id": "VE_IC_7bjREY"
   },
   "source": [
    "As a classification problem, Sentiment Analysis uses the evaluation metrics of Precision, Recall, F-score, and Accuracy. Also, average measures like macro, micro, and weighted F1-scores are useful for multi-class problems."
   ]
  },
  {
   "cell_type": "markdown",
   "metadata": {
    "colab_type": "text",
    "id": "duYVzmbY5_wC"
   },
   "source": [
    "## 7.2. Predictions based on all the models fitted"
   ]
  },
  {
   "cell_type": "markdown",
   "metadata": {
    "colab_type": "text",
    "id": "MqZFB4pN3ga8"
   },
   "source": [
    "### Predicting the sentiments using the up-sampled model"
   ]
  },
  {
   "cell_type": "code",
   "execution_count": 145,
   "metadata": {
    "colab": {},
    "colab_type": "code",
    "id": "6TpD_KRQ3ga8"
   },
   "outputs": [
    {
     "ename": "NameError",
     "evalue": "name 'MultinomialNB_up' is not defined",
     "output_type": "error",
     "traceback": [
      "\u001b[1;31m---------------------------------------------------------------------------\u001b[0m",
      "\u001b[1;31mNameError\u001b[0m                                 Traceback (most recent call last)",
      "\u001b[1;32m<ipython-input-145-dd6196a1fe8c>\u001b[0m in \u001b[0;36m<module>\u001b[1;34m\u001b[0m\n\u001b[0;32m      3\u001b[0m \u001b[0my_pred1\u001b[0m \u001b[1;33m=\u001b[0m \u001b[0mSVC_up\u001b[0m\u001b[1;33m.\u001b[0m\u001b[0mpredict\u001b[0m\u001b[1;33m(\u001b[0m\u001b[0mx_unseen\u001b[0m\u001b[1;33m)\u001b[0m\u001b[1;33m\u001b[0m\u001b[1;33m\u001b[0m\u001b[0m\n\u001b[0;32m      4\u001b[0m \u001b[0my_pred2\u001b[0m \u001b[1;33m=\u001b[0m \u001b[0mLogisticRegression_up\u001b[0m\u001b[1;33m.\u001b[0m\u001b[0mpredict\u001b[0m\u001b[1;33m(\u001b[0m\u001b[0mx_unseen\u001b[0m\u001b[1;33m)\u001b[0m\u001b[1;33m\u001b[0m\u001b[1;33m\u001b[0m\u001b[0m\n\u001b[1;32m----> 5\u001b[1;33m \u001b[0my_pred3\u001b[0m \u001b[1;33m=\u001b[0m \u001b[0mMultinomialNB_up\u001b[0m\u001b[1;33m.\u001b[0m\u001b[0mpredict\u001b[0m\u001b[1;33m(\u001b[0m\u001b[0mx_unseen\u001b[0m\u001b[1;33m)\u001b[0m\u001b[1;33m\u001b[0m\u001b[1;33m\u001b[0m\u001b[0m\n\u001b[0m",
      "\u001b[1;31mNameError\u001b[0m: name 'MultinomialNB_up' is not defined"
     ]
    }
   ],
   "source": [
    "#Getting the predicted sentimet from test dataset\n",
    "y_pred = LinearSVC_up.predict(x_unseen)\n",
    "y_pred1 = SVC_up.predict(x_unseen)\n",
    "y_pred2 = LogisticRegression_up.predict(x_unseen)\n",
    "y_pred3 = MultinomialNB_up.predict(x_unseen)\n"
   ]
  },
  {
   "cell_type": "code",
   "execution_count": null,
   "metadata": {
    "colab": {},
    "colab_type": "code",
    "id": "i4CpZEkc6yZb"
   },
   "outputs": [],
   "source": [
    "#Printing the predicted sentiment\n",
    "print(y_pred)\n",
    "print(y_pred1)\n",
    "print(y_pred2)\n",
    "print(y_pred3)\n",
    "\n"
   ]
  },
  {
   "cell_type": "markdown",
   "metadata": {},
   "source": [
    "# 8.Conclusion"
   ]
  },
  {
   "cell_type": "markdown",
   "metadata": {},
   "source": [
    "Based on the accuracy scores from the four fitted models above, LinearSCV is the one which gives a higher score than the rest implyng that is the best model to use to predict the sentiment of the tweet messages. Based on the model description on 8.2 it states that LinearSCV supports both dense and sparse input and the multiclass is handled according to a one-vs-the-rest ,this is the reason why it is the best model. After working through the given data and through classification , it is clear that most of the tweets were of the pro sentiment which means a majority of people support the belief of man-made climate change."
   ]
  },
  {
   "cell_type": "markdown",
   "metadata": {
    "colab_type": "text",
    "id": "ul6bFRam3gbC"
   },
   "source": [
    "/////////////////////////////////////////////////////////////////////////////////////////////////////////////////////////////////////////////////////////////////////////////////////////////////////////////////////////////////////////////////////////////"
   ]
  },
  {
   "cell_type": "markdown",
   "metadata": {
    "colab_type": "text",
    "id": "bhmnDtZ01HGW"
   },
   "source": [
    "# 14. Submissions"
   ]
  },
  {
   "cell_type": "code",
   "execution_count": null,
   "metadata": {
    "colab": {},
    "colab_type": "code",
    "id": "yy7E-yCc3gbD"
   },
   "outputs": [],
   "source": [
    "#Making the tweetid to be the idex\n",
    "test=test.set_index('tweetid')"
   ]
  },
  {
   "cell_type": "code",
   "execution_count": null,
   "metadata": {
    "colab": {},
    "colab_type": "code",
    "id": "2yEqt90N_bZZ"
   },
   "outputs": [],
   "source": [
    "test.head(5)"
   ]
  },
  {
   "cell_type": "code",
   "execution_count": null,
   "metadata": {
    "colab": {},
    "colab_type": "code",
    "id": "bllS_mgJ-nzJ"
   },
   "outputs": [],
   "source": [
    "#Sellecting the index of the test dataframe\n",
    "final_test= test.index"
   ]
  },
  {
   "cell_type": "code",
   "execution_count": null,
   "metadata": {
    "colab": {},
    "colab_type": "code",
    "id": "tTu-AnBs-lCf"
   },
   "outputs": [],
   "source": [
    "#Creating the submission Dataframe\n",
    "Final_Table = {'tweetid': final_test, 'sentiment':np.round(y_pred, 0)}\n",
    "submission = pd.DataFrame(data=Final_Table)\n",
    "submission = submission[['tweetid', 'sentiment']]"
   ]
  },
  {
   "cell_type": "code",
   "execution_count": null,
   "metadata": {
    "colab": {},
    "colab_type": "code",
    "id": "CVCW1zAt3gbM"
   },
   "outputs": [],
   "source": [
    "submission.set_index('tweetid').head(5)"
   ]
  },
  {
   "cell_type": "code",
   "execution_count": null,
   "metadata": {
    "colab": {},
    "colab_type": "code",
    "id": "jqe8Su8K3gbO"
   },
   "outputs": [],
   "source": [
    "#Creating the submission Dataframe\n",
    "Final_Table1 = {'tweetid': final_test, 'sentiment':np.round(y_pred1, 0)}\n",
    "submission1 = pd.DataFrame(data=Final_Table1)\n",
    "submission1 = submission1[['tweetid', 'sentiment']]"
   ]
  },
  {
   "cell_type": "code",
   "execution_count": null,
   "metadata": {
    "colab": {},
    "colab_type": "code",
    "id": "05AMlsQi3gbQ"
   },
   "outputs": [],
   "source": [
    "submission1.set_index('tweetid').head(5)"
   ]
  },
  {
   "cell_type": "code",
   "execution_count": null,
   "metadata": {
    "colab": {},
    "colab_type": "code",
    "id": "aY5VWFJN3gbS"
   },
   "outputs": [],
   "source": [
    "#Creating the submission Dataframe\n",
    "Final_Table2 = {'tweetid': final_test, 'sentiment':np.round(y_pred2, 0)}\n",
    "submission2 = pd.DataFrame(data=Final_Table2)\n",
    "submission2 = submission2[['tweetid', 'sentiment']]"
   ]
  },
  {
   "cell_type": "code",
   "execution_count": null,
   "metadata": {
    "colab": {},
    "colab_type": "code",
    "id": "Hda5Afzj3gbT"
   },
   "outputs": [],
   "source": [
    "submission2.set_index('tweetid').head(5)"
   ]
  },
  {
   "cell_type": "code",
   "execution_count": null,
   "metadata": {
    "colab": {},
    "colab_type": "code",
    "id": "8jAcJt-C3gbV"
   },
   "outputs": [],
   "source": [
    "#Creating the submission Dataframe\n",
    "Final_Table3 = {'tweetid': final_test, 'sentiment':np.round(y_pred3, 0)}\n",
    "submission3 = pd.DataFrame(data=Final_Table3)\n",
    "submission3 = submission3[['tweetid', 'sentiment']]"
   ]
  },
  {
   "cell_type": "code",
   "execution_count": null,
   "metadata": {
    "colab": {},
    "colab_type": "code",
    "id": "dQ2ADNBI3gbY"
   },
   "outputs": [],
   "source": [
    "submission3.set_index('tweetid').head(5)"
   ]
  },
  {
   "cell_type": "markdown",
   "metadata": {},
   "source": [
    "/////////////////////////////////////////////////////////////////////////////////////////////////////////////////////////////////////////////////////////////////////////////////////////////////////////////////////////////////////////////////////////////"
   ]
  },
  {
   "cell_type": "markdown",
   "metadata": {},
   "source": [
    "- submissions to kaggle"
   ]
  },
  {
   "cell_type": "code",
   "execution_count": null,
   "metadata": {
    "colab": {},
    "colab_type": "code",
    "id": "dIWFQKZT1HGZ"
   },
   "outputs": [],
   "source": [
    "submission.to_csv(\"TestSubmission1.csv\",index  = False) #wrting csv file"
   ]
  },
  {
   "cell_type": "code",
   "execution_count": null,
   "metadata": {
    "colab": {},
    "colab_type": "code",
    "id": "dYpkkLv33gbe"
   },
   "outputs": [],
   "source": [
    "submission1.to_csv(\"TestSubmission2.csv\",index  = False) #wrting csv file"
   ]
  },
  {
   "cell_type": "code",
   "execution_count": null,
   "metadata": {
    "colab": {},
    "colab_type": "code",
    "id": "Z8FkU1Yt3gbg"
   },
   "outputs": [],
   "source": [
    "submission2.to_csv(\"TestSubmission3.csv\",index  = False) #wrting csv file"
   ]
  },
  {
   "cell_type": "code",
   "execution_count": null,
   "metadata": {
    "colab": {},
    "colab_type": "code",
    "id": "QR2jWpgh3gbh"
   },
   "outputs": [],
   "source": [
    "submission3.to_csv(\"TestSubmission4.csv\",index  = False) #wrting csv file"
   ]
  },
  {
   "cell_type": "markdown",
   "metadata": {
    "colab_type": "text",
    "id": "XJvEgkEP3gbm"
   },
   "source": [
    "//////////////////////////////////////////////////////////////////////////////////////////////////////////////////////////////////////////////////////////////////////////////////////////////////////////////////////////////////////////////////////////////\n"
   ]
  },
  {
   "cell_type": "markdown",
   "metadata": {
    "colab_type": "text",
    "id": "9Cciz_k03gbm"
   },
   "source": [
    "- Saving models\n"
   ]
  },
  {
   "cell_type": "code",
   "execution_count": null,
   "metadata": {
    "colab": {},
    "colab_type": "code",
    "id": "tM_aAA7O3gbo"
   },
   "outputs": [],
   "source": [
    "import pickle\n",
    "file = open('vectoriser.pkl','wb')\n",
    "pickle.dump(vectoriser, file)\n",
    "file.close()\n"
   ]
  },
  {
   "cell_type": "code",
   "execution_count": null,
   "metadata": {
    "colab": {},
    "colab_type": "code",
    "id": "SJzoKb-c3gbu"
   },
   "outputs": [],
   "source": [
    "\n",
    "file = open('LogisticRegression.pkl','wb')\n",
    "pickle.dump(LogisticRegression, file)\n",
    "file.close()\n"
   ]
  },
  {
   "cell_type": "code",
   "execution_count": null,
   "metadata": {
    "colab": {},
    "colab_type": "code",
    "id": "BJWZ6rTh3gbx"
   },
   "outputs": [],
   "source": [
    "\n",
    "file = open('SVC.pkl','wb')\n",
    "pickle.dump(SVC, file)\n",
    "file.close()\n"
   ]
  },
  {
   "cell_type": "code",
   "execution_count": null,
   "metadata": {
    "colab": {},
    "colab_type": "code",
    "id": "UbaZs0a_3gbz"
   },
   "outputs": [],
   "source": [
    "\n",
    "file = open('MultinomialNB.pkl','wb')\n",
    "pickle.dump(MultinomialNB, file)\n",
    "file.close()\n"
   ]
  },
  {
   "cell_type": "code",
   "execution_count": null,
   "metadata": {
    "colab": {},
    "colab_type": "code",
    "id": "RWPHvJ-L3gb6"
   },
   "outputs": [],
   "source": [
    "\n",
    "file = open('LinearSVC.pkl','wb')\n",
    "pickle.dump(LinearSVC, file)\n",
    "file.close()\n"
   ]
  },
  {
   "cell_type": "code",
   "execution_count": null,
   "metadata": {
    "colab": {},
    "colab_type": "code",
    "id": "LcPaBnG73gb8"
   },
   "outputs": [],
   "source": []
  }
 ],
 "metadata": {
  "colab": {
   "collapsed_sections": [],
   "name": "Classification.ipynb",
   "provenance": []
  },
  "kernelspec": {
   "display_name": "Python 3",
   "language": "python",
   "name": "python3"
  },
  "language_info": {
   "codemirror_mode": {
    "name": "ipython",
    "version": 3
   },
   "file_extension": ".py",
   "mimetype": "text/x-python",
   "name": "python",
   "nbconvert_exporter": "python",
   "pygments_lexer": "ipython3",
   "version": "3.7.6"
  }
 },
 "nbformat": 4,
 "nbformat_minor": 1
}
